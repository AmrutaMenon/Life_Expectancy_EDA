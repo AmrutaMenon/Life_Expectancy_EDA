{
  "nbformat": 4,
  "nbformat_minor": 0,
  "metadata": {
    "colab": {
      "name": "Life_Expectancy_EDA.ipynb",
      "provenance": [],
      "collapsed_sections": [
        "HbVS39muZlV_",
        "vAy7E5K6fo45",
        "quecLBGCgWX4",
        "brZDgmuoZpaW",
        "OOMGcsN3Zx1M",
        "kff0wqQ7Z4oJ",
        "Q0JzIBlRZ_89",
        "9BPbmlyGaFYg",
        "twgOPvD6aMUG",
        "0JMWikjsaS6G",
        "j_Jlkx1Taavp",
        "Zw1R2NogacZv",
        "R6-589AnaepZ",
        "1fkLuDxcahE9",
        "U4_kTpbvaidE",
        "Ayn16eB2ajzR",
        "h0Bfp7egalDy"
      ],
      "mount_file_id": "1m79bG2agK9H9Awl9Xq87OIGtP8OsZd1S",
      "authorship_tag": "ABX9TyM2E5PDMXD5fhYmpeW8XphB",
      "include_colab_link": true
    },
    "kernelspec": {
      "name": "python3",
      "display_name": "Python 3"
    },
    "language_info": {
      "name": "python"
    }
  },
  "cells": [
    {
      "cell_type": "markdown",
      "metadata": {
        "id": "view-in-github",
        "colab_type": "text"
      },
      "source": [
        "<a href=\"https://colab.research.google.com/github/AmrutaMenon/Life_Expectancy_EDA/blob/main/Life_Expectancy_EDA.ipynb\" target=\"_parent\"><img src=\"https://colab.research.google.com/assets/colab-badge.svg\" alt=\"Open In Colab\"/></a>"
      ]
    },
    {
      "cell_type": "markdown",
      "metadata": {
        "id": "4xE1hS0EGWgm"
      },
      "source": [
        "# **Life Expectancy** - *A statistical analysis on the factors influencing Life expectancy*\n",
        "\n",
        "\n",
        "\n",
        "\n",
        "\n"
      ]
    },
    {
      "cell_type": "markdown",
      "metadata": {
        "id": "dycAF0irGrwe"
      },
      "source": [
        "## **Objective**\n",
        "\n",
        "The objective here is to find the factors that affect the Life Expectancy from the year 2000-2015. Apart from that there were different analysis conducted based upon the data.  "
      ]
    },
    {
      "cell_type": "markdown",
      "metadata": {
        "id": "ObBWuEkQHgcB"
      },
      "source": [
        "## About the data\n",
        "Although there have been lot of studies undertaken in the past on factors affecting life expectancy considering demographic variables, income composition and mortality rates, it was found that effect of immunization and human development index was not taken into account in the past. Also, some of the past research was done considering multiple linear regression based on data set of one year for all the countries. Important immunization like Hepatitis B, Polio and Diphtheria will also be considered. In a nutshell, this study will focus on immunization factors, mortality factors, economic factors, social factors and other health related factors as well. Since the observations in this dataset are based on different countries, it will be easier for a country to determine the predicting factor which is contributing to lower value of life expectancy. This will help in suggesting a country which area should be given importance in order to efficiently improve the life expectancy of its population.\n"
      ]
    },
    {
      "cell_type": "markdown",
      "metadata": {
        "id": "HE0jVoolJDhB"
      },
      "source": [
        "\n",
        "\n",
        "*   The data was collected from kaggle - Life Expectancy data by WHO\n",
        "\n",
        "*   Link to download the dataset: https://www.kaggle.com/kumarajarshi/life-expectancy-who\n",
        "\n"
      ]
    },
    {
      "cell_type": "markdown",
      "metadata": {
        "id": "WZDMGV2jJfdC"
      },
      "source": [
        "## **Data Description**\n",
        "\n",
        "The dataset contained 22 columns and 2938 rows.\n",
        "\n",
        "### *Columns*\n",
        "\n",
        "*   **Country**\n",
        "      \n",
        "        Names of 193 Countries.\n",
        "\n",
        "*   **Year**\n",
        "      \n",
        "        Years from 2000-2015 was taken into account.\n",
        "\n",
        "*   **Status**\n",
        "\n",
        "        Status of a Country: Developing and Developed.\n",
        "\n",
        "*   **Life expectancy**\n",
        "\n",
        "        Life expectancy in age.\n",
        "\n",
        "*   **Adult Mortality**\n",
        "\n",
        "        Adult Mortality Rates of both sexes (probability of dying between 15 and 60 years per 1000 population).\n",
        "\n",
        "*   **Infant Deaths**(death before his/her 1st birthday)\n",
        "\n",
        "        Number of Infant Deaths per 1000 population.\n",
        "\n",
        "*   **Alcohol**\n",
        "\n",
        "        Alcohol, recorded per capita (15+) consumption (in litres of pure alcohol).\n",
        "\n",
        "*   **Percentage Expenditure**\n",
        "\n",
        "        Expenditure on health as a percentage of Gross Domestic Product per capita(%).\n",
        "\n",
        "\n",
        "*   **Hepatitis B**\n",
        "\n",
        "        Hepatitis B (HepB) immunization coverage among 1-year-olds (%).\n",
        "\n",
        "\n",
        "*   **Measles**\n",
        "\n",
        "        Measles - number of reported cases per 1000 population.\n",
        "\n",
        "\n",
        "*   **BMI**\n",
        "\n",
        "        Average Body Mass Index of entire population.\n",
        "\n",
        "\n",
        "*   **Under-five Deaths**\n",
        "\n",
        "        Number of under-five deaths per 1000 population.\n",
        "\n",
        "*  **Polio**\n",
        "\n",
        "        Polio (Pol3) immunization coverage among 1-year-olds (%).\n",
        "\n",
        "*   **Total expenditure**\n",
        "\n",
        "        General government expenditure on health as a percentage of total government expenditure (%).\n",
        "\n",
        "*   **Diphtheria**\n",
        "\n",
        "        Diphtheria tetanus toxoid and pertussis (DTP3) immunization coverage among 1-year-olds (%).\n",
        "\n",
        "*   **HIV/AIDS**\n",
        "\n",
        "        Deaths per 1000 live births HIV/AIDS (0-4 years).\n",
        "\n",
        "*   GDP\n",
        "\n",
        "        Gross Domestic Product per capita (in USD).\n",
        "\n",
        "\n",
        "*   **Population**\n",
        "\n",
        "        Population of the country.\n",
        "\n",
        "\n",
        "*   **Thinness 1-19 years**\n",
        "\n",
        "        Prevalence of thinness among children and adolescents for Age 10 to 19 (%).\n",
        "\n",
        "*   **Thinness 5-9 years**\n",
        "\n",
        "        Prevalence of thinness among children for Age 5 to 9(%).\n",
        "\n",
        "*   **Income composition of resources**\n",
        "\n",
        "        Human Development Index in terms of income composition of resources (index ranging from 0 to 1).\n",
        "\n",
        "*   **Schooling**\n",
        "      \n",
        "        Number of years of Schooling(years).\n",
        "\n",
        "\n",
        "\n",
        "\n",
        "\n",
        "\n",
        "\n",
        "\n",
        "\n",
        "\n",
        "\n",
        "\n"
      ]
    },
    {
      "cell_type": "markdown",
      "metadata": {
        "id": "_Omz9_fqOYy8"
      },
      "source": [
        "# Procedure\n",
        "\n",
        "Initially, all the required packages were imported and the dataset was loaded. The data contained a healthy amount of missing values. During the pre-processing of the data, all the missing values were removed using bfill(), ffill() and drop() methods. During EDA, different insights were drawn based on each question and visualization was also done for a better understanding of the analysis."
      ]
    },
    {
      "cell_type": "markdown",
      "metadata": {
        "id": "lfGPSkCWQY5c"
      },
      "source": [
        "## **Importing Packages**\n"
      ]
    },
    {
      "cell_type": "code",
      "metadata": {
        "id": "RGKOcPl9QYgK"
      },
      "source": [
        "import pandas as pd\n",
        "import numpy as np\n",
        "import matplotlib.pyplot as plt\n",
        "import seaborn as sns"
      ],
      "execution_count": 1,
      "outputs": []
    },
    {
      "cell_type": "markdown",
      "metadata": {
        "id": "WVlC-jAMQ5N2"
      },
      "source": [
        "## Loading Dataset"
      ]
    },
    {
      "cell_type": "code",
      "metadata": {
        "id": "hUcK1tfnF837"
      },
      "source": [
        "df=pd.read_csv('/content/drive/MyDrive/Colab Notebooks/Life Expectancy Data.csv')\n",
        "df.head()"
      ],
      "execution_count": null,
      "outputs": []
    },
    {
      "cell_type": "markdown",
      "metadata": {
        "id": "klKhRqOHRl-7"
      },
      "source": [
        "## Pre-Processing"
      ]
    },
    {
      "cell_type": "code",
      "metadata": {
        "id": "2iElgGswRFr_"
      },
      "source": [
        "# Renaming columns\n",
        "df.rename(columns={\" BMI \":\"BMI\",\"Life expectancy \":\"Life_Expectancy\",\"Adult Mortality\":\"Adult_Mortality\",\n",
        "                   \"infant deaths\":\"Infant_Deaths\",\"percentage expenditure\":\"Percentage_Exp\",\"Hepatitis B\":\"HepatitisB\",\n",
        "                  \"Measles \":\"Measles\",\" BMI \":\"BMI\",\"under-five deaths \":\"Under_Five_Deaths\",\"Diphtheria \":\"Diphtheria\",\n",
        "                  \" HIV/AIDS\":\"HIV/AIDS\",\" thinness  1-19 years\":\"thinness_1to19_years\",\" thinness 5-9 years\":\"thinness_5to9_years\",\"Income composition of resources\":\"Income_Comp_Of_Resources\",\n",
        "                   \"Total expenditure\":\"Tot_Exp\"},inplace=True)"
      ],
      "execution_count": 3,
      "outputs": []
    },
    {
      "cell_type": "code",
      "metadata": {
        "colab": {
          "base_uri": "https://localhost:8080/"
        },
        "id": "ybrP9-yQR09M",
        "outputId": "553dd7c1-55c6-4d08-806a-a1361e186f68"
      },
      "source": [
        "# Checking shape of dataset\n",
        "df.shape"
      ],
      "execution_count": null,
      "outputs": [
        {
          "output_type": "execute_result",
          "data": {
            "text/plain": [
              "(2938, 22)"
            ]
          },
          "metadata": {
            "tags": []
          },
          "execution_count": 4
        }
      ]
    },
    {
      "cell_type": "code",
      "metadata": {
        "colab": {
          "base_uri": "https://localhost:8080/"
        },
        "id": "Bj1rXoE2R05w",
        "outputId": "87cf5f16-4ed5-4417-9958-f9025d73102a"
      },
      "source": [
        "# Column names\n",
        "df.columns"
      ],
      "execution_count": null,
      "outputs": [
        {
          "output_type": "execute_result",
          "data": {
            "text/plain": [
              "Index(['Country', 'Year', 'Status', 'Life_Expectancy', 'Adult_Mortality',\n",
              "       'Infant_Deaths', 'Alcohol', 'Percentage_Exp', 'HepatitisB', 'Measles',\n",
              "       'BMI', 'Under_Five_Deaths', 'Polio', 'Tot_Exp', 'Diphtheria',\n",
              "       'HIV/AIDS', 'GDP', 'Population', 'thinness_1to19_years',\n",
              "       'thinness_5to9_years', 'Income_Comp_Of_Resources', 'Schooling'],\n",
              "      dtype='object')"
            ]
          },
          "metadata": {
            "tags": []
          },
          "execution_count": 5
        }
      ]
    },
    {
      "cell_type": "code",
      "metadata": {
        "colab": {
          "base_uri": "https://localhost:8080/"
        },
        "id": "8kSwB62OR03L",
        "outputId": "e971de87-2272-4290-ebb6-d216a7f38164"
      },
      "source": [
        "# Total Number of Countries\n",
        "df.Country.nunique()"
      ],
      "execution_count": null,
      "outputs": [
        {
          "output_type": "execute_result",
          "data": {
            "text/plain": [
              "193"
            ]
          },
          "metadata": {
            "tags": []
          },
          "execution_count": 6
        }
      ]
    },
    {
      "cell_type": "code",
      "metadata": {
        "id": "XdG5gKdnR01I"
      },
      "source": [
        "df.describe()"
      ],
      "execution_count": null,
      "outputs": []
    },
    {
      "cell_type": "code",
      "metadata": {
        "colab": {
          "base_uri": "https://localhost:8080/"
        },
        "id": "MyQx9vZESUR4",
        "outputId": "ff869a58-8b80-458d-cb68-3412dd819a3e"
      },
      "source": [
        "df.info()"
      ],
      "execution_count": null,
      "outputs": [
        {
          "output_type": "stream",
          "text": [
            "<class 'pandas.core.frame.DataFrame'>\n",
            "RangeIndex: 2938 entries, 0 to 2937\n",
            "Data columns (total 22 columns):\n",
            " #   Column                    Non-Null Count  Dtype  \n",
            "---  ------                    --------------  -----  \n",
            " 0   Country                   2938 non-null   object \n",
            " 1   Year                      2938 non-null   int64  \n",
            " 2   Status                    2938 non-null   object \n",
            " 3   Life_Expectancy           2928 non-null   float64\n",
            " 4   Adult_Mortality           2928 non-null   float64\n",
            " 5   Infant_Deaths             2938 non-null   int64  \n",
            " 6   Alcohol                   2744 non-null   float64\n",
            " 7   Percentage_Exp            2938 non-null   float64\n",
            " 8   HepatitisB                2385 non-null   float64\n",
            " 9   Measles                   2938 non-null   int64  \n",
            " 10  BMI                       2904 non-null   float64\n",
            " 11  Under_Five_Deaths         2938 non-null   int64  \n",
            " 12  Polio                     2919 non-null   float64\n",
            " 13  Tot_Exp                   2712 non-null   float64\n",
            " 14  Diphtheria                2919 non-null   float64\n",
            " 15  HIV/AIDS                  2938 non-null   float64\n",
            " 16  GDP                       2490 non-null   float64\n",
            " 17  Population                2286 non-null   float64\n",
            " 18  thinness_1to19_years      2904 non-null   float64\n",
            " 19  thinness_5to9_years       2904 non-null   float64\n",
            " 20  Income_Comp_Of_Resources  2771 non-null   float64\n",
            " 21  Schooling                 2775 non-null   float64\n",
            "dtypes: float64(16), int64(4), object(2)\n",
            "memory usage: 505.1+ KB\n"
          ],
          "name": "stdout"
        }
      ]
    },
    {
      "cell_type": "code",
      "metadata": {
        "colab": {
          "base_uri": "https://localhost:8080/"
        },
        "id": "TXpWufmlR0yI",
        "outputId": "b6c14ebe-8e11-40e0-ee33-46246ce6c7a7"
      },
      "source": [
        "# Checking for null values in the columns\n",
        "df.isnull().sum()\n"
      ],
      "execution_count": null,
      "outputs": [
        {
          "output_type": "execute_result",
          "data": {
            "text/plain": [
              "Country                       0\n",
              "Year                          0\n",
              "Status                        0\n",
              "Life_Expectancy              10\n",
              "Adult_Mortality              10\n",
              "Infant_Deaths                 0\n",
              "Alcohol                     194\n",
              "Percentage_Exp                0\n",
              "HepatitisB                  553\n",
              "Measles                       0\n",
              "BMI                          34\n",
              "Under_Five_Deaths             0\n",
              "Polio                        19\n",
              "Tot_Exp                     226\n",
              "Diphtheria                   19\n",
              "HIV/AIDS                      0\n",
              "GDP                         448\n",
              "Population                  652\n",
              "thinness_1to19_years         34\n",
              "thinness_5to9_years          34\n",
              "Income_Comp_Of_Resources    167\n",
              "Schooling                   163\n",
              "dtype: int64"
            ]
          },
          "metadata": {
            "tags": []
          },
          "execution_count": 8
        }
      ]
    },
    {
      "cell_type": "markdown",
      "metadata": {
        "id": "N0Rr41icS_cb"
      },
      "source": [
        "## Data Cleaning"
      ]
    },
    {
      "cell_type": "code",
      "metadata": {
        "id": "S0vOUsdQR0vf"
      },
      "source": [
        "# Cleaning dataset with non-null values\n",
        "df=df[(df.GDP.notnull()) & (df.Population.notnull()) & (df.Schooling.notnull()) & (df.Income_Comp_Of_Resources.notnull())]\n",
        "df.head()"
      ],
      "execution_count": null,
      "outputs": []
    },
    {
      "cell_type": "code",
      "metadata": {
        "colab": {
          "base_uri": "https://localhost:8080/"
        },
        "id": "qMHbIN6tR0tU",
        "outputId": "9cbaf16d-20f2-491c-ae12-757e501d50cd"
      },
      "source": [
        "df.isnull().sum()"
      ],
      "execution_count": null,
      "outputs": [
        {
          "output_type": "execute_result",
          "data": {
            "text/plain": [
              "Country                       0\n",
              "Year                          0\n",
              "Status                        0\n",
              "Life_Expectancy               1\n",
              "Adult_Mortality               1\n",
              "Infant_Deaths                 0\n",
              "Alcohol                     146\n",
              "Percentage_Exp                0\n",
              "HepatitisB                  473\n",
              "Measles                       0\n",
              "BMI                          24\n",
              "Under_Five_Deaths             0\n",
              "Polio                        11\n",
              "Tot_Exp                     142\n",
              "Diphtheria                   11\n",
              "HIV/AIDS                      0\n",
              "GDP                           0\n",
              "Population                    0\n",
              "thinness_1to19_years         24\n",
              "thinness_5to9_years          24\n",
              "Income_Comp_Of_Resources      0\n",
              "Schooling                     0\n",
              "dtype: int64"
            ]
          },
          "metadata": {
            "tags": []
          },
          "execution_count": 11
        }
      ]
    },
    {
      "cell_type": "markdown",
      "metadata": {
        "id": "7pGeoXX5TQga"
      },
      "source": [
        "    Data still countains null values"
      ]
    },
    {
      "cell_type": "code",
      "metadata": {
        "id": "o011Z_uYR0q7"
      },
      "source": [
        "# Filling missing columns using bfill and ffill\n",
        "col_bfill=['Tot_Exp','Alcohol']\n",
        "col_ffill=['HepatitisB','Polio','Diphtheria']"
      ],
      "execution_count": null,
      "outputs": []
    },
    {
      "cell_type": "code",
      "metadata": {
        "colab": {
          "base_uri": "https://localhost:8080/"
        },
        "id": "8j1f_2JGR0of",
        "outputId": "cd3646e0-d091-4c99-9ab7-cfb8c08f77fa"
      },
      "source": [
        "df.loc[:,col_bfill]=df.loc[:,col_bfill].bfill()\n",
        "df.loc[:,col_ffill]=df.loc[:,col_ffill].ffill()\n",
        "df.isnull().sum()"
      ],
      "execution_count": null,
      "outputs": [
        {
          "output_type": "execute_result",
          "data": {
            "text/plain": [
              "Country                      0\n",
              "Year                         0\n",
              "Status                       0\n",
              "Life_Expectancy              1\n",
              "Adult_Mortality              1\n",
              "Infant_Deaths                0\n",
              "Alcohol                      0\n",
              "Percentage_Exp               0\n",
              "HepatitisB                   0\n",
              "Measles                      0\n",
              "BMI                         24\n",
              "Under_Five_Deaths            0\n",
              "Polio                        0\n",
              "Tot_Exp                      0\n",
              "Diphtheria                   0\n",
              "HIV/AIDS                     0\n",
              "GDP                          0\n",
              "Population                   0\n",
              "thinness_1to19_years        24\n",
              "thinness_5to9_years         24\n",
              "Income_Comp_Of_Resources     0\n",
              "Schooling                    0\n",
              "dtype: int64"
            ]
          },
          "metadata": {
            "tags": []
          },
          "execution_count": 13
        }
      ]
    },
    {
      "cell_type": "code",
      "metadata": {
        "colab": {
          "base_uri": "https://localhost:8080/"
        },
        "id": "rYKMqH0SR0mS",
        "outputId": "365239ce-58b7-45d5-87e3-b6362b08b802"
      },
      "source": [
        "# index value of column with null values\n",
        "print(df[df.Life_Expectancy.isnull()].index.tolist())\n",
        "print(df[df.Adult_Mortality.isnull()].index.tolist())\n",
        "print(df[df.thinness_1to19_years.isnull()].index.tolist())\n",
        "print(df[df.thinness_5to9_years.isnull()].index.tolist())\n",
        "print(df[df.BMI.isnull()].index.tolist())"
      ],
      "execution_count": null,
      "outputs": [
        {
          "output_type": "stream",
          "text": [
            "[1958]\n",
            "[1958]\n",
            "[2409, 2410, 2411, 2412, 2413, 2414, 2415, 2416, 2457, 2458, 2459, 2460, 2461, 2462, 2463, 2464, 2465, 2466, 2467, 2468, 2469, 2470, 2471, 2472]\n",
            "[2409, 2410, 2411, 2412, 2413, 2414, 2415, 2416, 2457, 2458, 2459, 2460, 2461, 2462, 2463, 2464, 2465, 2466, 2467, 2468, 2469, 2470, 2471, 2472]\n",
            "[2409, 2410, 2411, 2412, 2413, 2414, 2415, 2416, 2457, 2458, 2459, 2460, 2461, 2462, 2463, 2464, 2465, 2466, 2467, 2468, 2469, 2470, 2471, 2472]\n"
          ],
          "name": "stdout"
        }
      ]
    },
    {
      "cell_type": "code",
      "metadata": {
        "id": "m-1xhC_xR0j2"
      },
      "source": [
        "# dropping those missing values \n",
        "df.drop([1958,2409,2410,2411,2412,2413,2414,2415,2416,2457,2458,2459,2460,2461,2462,2463,2464,2465,2466,2467,2468,2469,2470,2471,2472],inplace=True)"
      ],
      "execution_count": null,
      "outputs": []
    },
    {
      "cell_type": "code",
      "metadata": {
        "colab": {
          "base_uri": "https://localhost:8080/"
        },
        "id": "7uIcGDRhTl0J",
        "outputId": "9b8701a4-08c0-4cb2-93ae-7ae6239a00ce"
      },
      "source": [
        "df.isnull().sum()"
      ],
      "execution_count": null,
      "outputs": [
        {
          "output_type": "execute_result",
          "data": {
            "text/plain": [
              "Country                     0\n",
              "Year                        0\n",
              "Status                      0\n",
              "Life_Expectancy             0\n",
              "Adult_Mortality             0\n",
              "Infant_Deaths               0\n",
              "Alcohol                     0\n",
              "Percentage_Exp              0\n",
              "HepatitisB                  0\n",
              "Measles                     0\n",
              "BMI                         0\n",
              "Under_Five_Deaths           0\n",
              "Polio                       0\n",
              "Tot_Exp                     0\n",
              "Diphtheria                  0\n",
              "HIV/AIDS                    0\n",
              "GDP                         0\n",
              "Population                  0\n",
              "thinness_1to19_years        0\n",
              "thinness_5to9_years         0\n",
              "Income_Comp_Of_Resources    0\n",
              "Schooling                   0\n",
              "dtype: int64"
            ]
          },
          "metadata": {
            "tags": []
          },
          "execution_count": 16
        }
      ]
    },
    {
      "cell_type": "markdown",
      "metadata": {
        "id": "pBxNwLIqTqfz"
      },
      "source": [
        "    Now, the dataset is clean without any missing values."
      ]
    },
    {
      "cell_type": "markdown",
      "metadata": {
        "id": "NEiKAtNhT-lQ"
      },
      "source": [
        "## Exploratory Data Analysis"
      ]
    },
    {
      "cell_type": "markdown",
      "metadata": {
        "id": "SQTVHKFHUHOz"
      },
      "source": [
        "### Questions for Analysis"
      ]
    },
    {
      "cell_type": "markdown",
      "metadata": {
        "id": "pIqLhODcUSpS"
      },
      "source": [
        "#### Analysis based on the target variable - Life_Expectancy:\n",
        "\n",
        "1. What are the average life expectancies of each country from 2000-2015?\n",
        "\n",
        "2. Does the alcohol consumption affect the life expectancy of people? \n",
        "\n",
        "3. According to 2015, which country has the highest life expectancy?\n",
        "\n",
        "4.\tDo densely populated countries tend to have lower life expectancy?\n",
        "\n",
        "5.\tWhat is the impact of Immunization coverage on life Expectancy?\n",
        "\n",
        "6.\tWhat is the impact of schooling on the lifespan of humans?\n",
        "\n",
        "7. Should a country having a lower life expectancy value(< 65) increase its healthcare expenditure in order to improve its average lifespan?\n",
        "\n",
        "8. What can we say about the life expectancy of a country having BMI>30?\n",
        "\n",
        "#### Other analysis: \n",
        "\n",
        "9. Infant death in india during 2000-2015.\n",
        "\n",
        "10. How GDP affect the status of a country?\n",
        "\n",
        "11. What can one say about the average Infant deaths in developing and developed countries?\n",
        "\n",
        "12. What are the rate of schooling in India from 2000-2015?\n",
        "\n",
        "13. Which country has the highest infant death in the year 2015?\n",
        "\n",
        "14. Which developing country has the least immunization and which developed country has the highest immunization?\n",
        "\n",
        "15. What are the percentage of immunization coverage in India from 2000-2015?"
      ]
    },
    {
      "cell_type": "markdown",
      "metadata": {
        "id": "HbVS39muZlV_"
      },
      "source": [
        "### 1. What are the average life expectancies of each country from 2000-2015?"
      ]
    },
    {
      "cell_type": "code",
      "metadata": {
        "id": "0zxY-8MTdZxa"
      },
      "source": [
        "avg=df.loc[:,'Life_Expectancy'].groupby(df['Country']).mean()\n",
        "avg"
      ],
      "execution_count": null,
      "outputs": []
    },
    {
      "cell_type": "code",
      "metadata": {
        "id": "K4J4nTUMdZj6"
      },
      "source": [
        "data=pd.DataFrame(avg).reset_index()\n",
        "data"
      ],
      "execution_count": null,
      "outputs": []
    },
    {
      "cell_type": "code",
      "metadata": {
        "id": "d3-An1KJdZc1"
      },
      "source": [
        "plt.figure(figsize=(200,180))\n",
        "plt.bar(data.Country,data.Life_Expectancy,width=0.5)\n",
        "plt.title('Avg Life Expectancy of each country from 2000-2015',{'fontsize':100})\n",
        "plt.xlabel('Country',{'fontsize':80})\n",
        "plt.ylabel('Avg Life Expectancy',{'fontsize':100})\n",
        "plt.xticks(rotation=90,fontsize=50)\n",
        "plt.yticks(fontsize=30)\n",
        "plt.show()"
      ],
      "execution_count": null,
      "outputs": []
    },
    {
      "cell_type": "markdown",
      "metadata": {
        "id": "vAy7E5K6fo45"
      },
      "source": [
        "### Insights:\n",
        "\n",
        "*   ### Countries having avg life expectancy above 80\n",
        "\n",
        "\n",
        "\n"
      ]
    },
    {
      "cell_type": "code",
      "metadata": {
        "id": "41LNgTR6TpKR"
      },
      "source": [
        "high_data=data[data.Life_Expectancy>80].reset_index(drop=True)\n",
        "high_data    "
      ],
      "execution_count": null,
      "outputs": []
    },
    {
      "cell_type": "code",
      "metadata": {
        "id": "JWNmLh6-f4z1"
      },
      "source": [
        "plt.figure(figsize=(12,8))\n",
        "sns.barplot(y='Country',x='Life_Expectancy',data=high_data)\n",
        "plt.title('Avg Life Expectancy above 80')\n",
        "plt.show()"
      ],
      "execution_count": null,
      "outputs": []
    },
    {
      "cell_type": "markdown",
      "metadata": {
        "id": "quecLBGCgWX4"
      },
      "source": [
        "\n",
        "\n",
        "*   ### Status of country having avg life expectancy > 80\n",
        "\n"
      ]
    },
    {
      "cell_type": "code",
      "metadata": {
        "colab": {
          "base_uri": "https://localhost:8080/"
        },
        "id": "6cV1YEz4f4xJ",
        "outputId": "f17c0265-991e-48ea-889f-be6ef57e2f5c"
      },
      "source": [
        "# to get the status of those countries having avg life exp > 80\n",
        "x=df.loc[:,'Life_Expectancy'].groupby([df.Country,df.Status]).mean()\n",
        "x"
      ],
      "execution_count": null,
      "outputs": [
        {
          "output_type": "execute_result",
          "data": {
            "text/plain": [
              "Country      Status    \n",
              "Afghanistan  Developing    58.19375\n",
              "Albania      Developing    75.15625\n",
              "Algeria      Developing    73.61875\n",
              "Angola       Developing    49.01875\n",
              "Argentina    Developing    75.15625\n",
              "                             ...   \n",
              "Uruguay      Developing    76.07500\n",
              "Uzbekistan   Developing    68.03125\n",
              "Vanuatu      Developing    71.38750\n",
              "Zambia       Developing    53.90625\n",
              "Zimbabwe     Developing    50.48750\n",
              "Name: Life_Expectancy, Length: 141, dtype: float64"
            ]
          },
          "metadata": {
            "tags": []
          },
          "execution_count": 28
        }
      ]
    },
    {
      "cell_type": "code",
      "metadata": {
        "colab": {
          "base_uri": "https://localhost:8080/",
          "height": 449
        },
        "id": "vJ95wQblf4t4",
        "outputId": "324a5278-01d1-42f5-a3bc-120b2e0ca9c3"
      },
      "source": [
        "X1=pd.DataFrame(x)\n",
        "X1"
      ],
      "execution_count": null,
      "outputs": [
        {
          "output_type": "execute_result",
          "data": {
            "text/html": [
              "<div>\n",
              "<style scoped>\n",
              "    .dataframe tbody tr th:only-of-type {\n",
              "        vertical-align: middle;\n",
              "    }\n",
              "\n",
              "    .dataframe tbody tr th {\n",
              "        vertical-align: top;\n",
              "    }\n",
              "\n",
              "    .dataframe thead th {\n",
              "        text-align: right;\n",
              "    }\n",
              "</style>\n",
              "<table border=\"1\" class=\"dataframe\">\n",
              "  <thead>\n",
              "    <tr style=\"text-align: right;\">\n",
              "      <th></th>\n",
              "      <th></th>\n",
              "      <th>Life_Expectancy</th>\n",
              "    </tr>\n",
              "    <tr>\n",
              "      <th>Country</th>\n",
              "      <th>Status</th>\n",
              "      <th></th>\n",
              "    </tr>\n",
              "  </thead>\n",
              "  <tbody>\n",
              "    <tr>\n",
              "      <th>Afghanistan</th>\n",
              "      <th>Developing</th>\n",
              "      <td>58.19375</td>\n",
              "    </tr>\n",
              "    <tr>\n",
              "      <th>Albania</th>\n",
              "      <th>Developing</th>\n",
              "      <td>75.15625</td>\n",
              "    </tr>\n",
              "    <tr>\n",
              "      <th>Algeria</th>\n",
              "      <th>Developing</th>\n",
              "      <td>73.61875</td>\n",
              "    </tr>\n",
              "    <tr>\n",
              "      <th>Angola</th>\n",
              "      <th>Developing</th>\n",
              "      <td>49.01875</td>\n",
              "    </tr>\n",
              "    <tr>\n",
              "      <th>Argentina</th>\n",
              "      <th>Developing</th>\n",
              "      <td>75.15625</td>\n",
              "    </tr>\n",
              "    <tr>\n",
              "      <th>...</th>\n",
              "      <th>...</th>\n",
              "      <td>...</td>\n",
              "    </tr>\n",
              "    <tr>\n",
              "      <th>Uruguay</th>\n",
              "      <th>Developing</th>\n",
              "      <td>76.07500</td>\n",
              "    </tr>\n",
              "    <tr>\n",
              "      <th>Uzbekistan</th>\n",
              "      <th>Developing</th>\n",
              "      <td>68.03125</td>\n",
              "    </tr>\n",
              "    <tr>\n",
              "      <th>Vanuatu</th>\n",
              "      <th>Developing</th>\n",
              "      <td>71.38750</td>\n",
              "    </tr>\n",
              "    <tr>\n",
              "      <th>Zambia</th>\n",
              "      <th>Developing</th>\n",
              "      <td>53.90625</td>\n",
              "    </tr>\n",
              "    <tr>\n",
              "      <th>Zimbabwe</th>\n",
              "      <th>Developing</th>\n",
              "      <td>50.48750</td>\n",
              "    </tr>\n",
              "  </tbody>\n",
              "</table>\n",
              "<p>141 rows × 1 columns</p>\n",
              "</div>"
            ],
            "text/plain": [
              "                        Life_Expectancy\n",
              "Country     Status                     \n",
              "Afghanistan Developing         58.19375\n",
              "Albania     Developing         75.15625\n",
              "Algeria     Developing         73.61875\n",
              "Angola      Developing         49.01875\n",
              "Argentina   Developing         75.15625\n",
              "...                                 ...\n",
              "Uruguay     Developing         76.07500\n",
              "Uzbekistan  Developing         68.03125\n",
              "Vanuatu     Developing         71.38750\n",
              "Zambia      Developing         53.90625\n",
              "Zimbabwe    Developing         50.48750\n",
              "\n",
              "[141 rows x 1 columns]"
            ]
          },
          "metadata": {
            "tags": []
          },
          "execution_count": 29
        }
      ]
    },
    {
      "cell_type": "code",
      "metadata": {
        "colab": {
          "base_uri": "https://localhost:8080/",
          "height": 668
        },
        "id": "JA5Cq5ROf4rx",
        "outputId": "cf6e1156-353b-42d3-f1cb-8096107bb9a0"
      },
      "source": [
        "status_data=X1[X1.Life_Expectancy>80]\n",
        "status_data.reset_index(inplace=True)\n",
        "status_data"
      ],
      "execution_count": null,
      "outputs": [
        {
          "output_type": "execute_result",
          "data": {
            "text/html": [
              "<div>\n",
              "<style scoped>\n",
              "    .dataframe tbody tr th:only-of-type {\n",
              "        vertical-align: middle;\n",
              "    }\n",
              "\n",
              "    .dataframe tbody tr th {\n",
              "        vertical-align: top;\n",
              "    }\n",
              "\n",
              "    .dataframe thead th {\n",
              "        text-align: right;\n",
              "    }\n",
              "</style>\n",
              "<table border=\"1\" class=\"dataframe\">\n",
              "  <thead>\n",
              "    <tr style=\"text-align: right;\">\n",
              "      <th></th>\n",
              "      <th>Country</th>\n",
              "      <th>Status</th>\n",
              "      <th>Life_Expectancy</th>\n",
              "    </tr>\n",
              "  </thead>\n",
              "  <tbody>\n",
              "    <tr>\n",
              "      <th>0</th>\n",
              "      <td>Australia</td>\n",
              "      <td>Developed</td>\n",
              "      <td>81.81250</td>\n",
              "    </tr>\n",
              "    <tr>\n",
              "      <th>1</th>\n",
              "      <td>Austria</td>\n",
              "      <td>Developed</td>\n",
              "      <td>81.48125</td>\n",
              "    </tr>\n",
              "    <tr>\n",
              "      <th>2</th>\n",
              "      <td>Belgium</td>\n",
              "      <td>Developed</td>\n",
              "      <td>80.68125</td>\n",
              "    </tr>\n",
              "    <tr>\n",
              "      <th>3</th>\n",
              "      <td>Canada</td>\n",
              "      <td>Developing</td>\n",
              "      <td>81.68750</td>\n",
              "    </tr>\n",
              "    <tr>\n",
              "      <th>4</th>\n",
              "      <td>Finland</td>\n",
              "      <td>Developing</td>\n",
              "      <td>80.71250</td>\n",
              "    </tr>\n",
              "    <tr>\n",
              "      <th>5</th>\n",
              "      <td>France</td>\n",
              "      <td>Developing</td>\n",
              "      <td>82.21875</td>\n",
              "    </tr>\n",
              "    <tr>\n",
              "      <th>6</th>\n",
              "      <td>Germany</td>\n",
              "      <td>Developed</td>\n",
              "      <td>81.17500</td>\n",
              "    </tr>\n",
              "    <tr>\n",
              "      <th>7</th>\n",
              "      <td>Greece</td>\n",
              "      <td>Developing</td>\n",
              "      <td>81.21875</td>\n",
              "    </tr>\n",
              "    <tr>\n",
              "      <th>8</th>\n",
              "      <td>Iceland</td>\n",
              "      <td>Developed</td>\n",
              "      <td>82.44375</td>\n",
              "    </tr>\n",
              "    <tr>\n",
              "      <th>9</th>\n",
              "      <td>Ireland</td>\n",
              "      <td>Developed</td>\n",
              "      <td>80.15000</td>\n",
              "    </tr>\n",
              "    <tr>\n",
              "      <th>10</th>\n",
              "      <td>Israel</td>\n",
              "      <td>Developing</td>\n",
              "      <td>81.30000</td>\n",
              "    </tr>\n",
              "    <tr>\n",
              "      <th>11</th>\n",
              "      <td>Italy</td>\n",
              "      <td>Developed</td>\n",
              "      <td>82.18750</td>\n",
              "    </tr>\n",
              "    <tr>\n",
              "      <th>12</th>\n",
              "      <td>Japan</td>\n",
              "      <td>Developed</td>\n",
              "      <td>82.53750</td>\n",
              "    </tr>\n",
              "    <tr>\n",
              "      <th>13</th>\n",
              "      <td>Luxembourg</td>\n",
              "      <td>Developed</td>\n",
              "      <td>80.78125</td>\n",
              "    </tr>\n",
              "    <tr>\n",
              "      <th>14</th>\n",
              "      <td>Malta</td>\n",
              "      <td>Developed</td>\n",
              "      <td>80.36250</td>\n",
              "    </tr>\n",
              "    <tr>\n",
              "      <th>15</th>\n",
              "      <td>Netherlands</td>\n",
              "      <td>Developed</td>\n",
              "      <td>81.13125</td>\n",
              "    </tr>\n",
              "    <tr>\n",
              "      <th>16</th>\n",
              "      <td>Norway</td>\n",
              "      <td>Developed</td>\n",
              "      <td>81.79375</td>\n",
              "    </tr>\n",
              "    <tr>\n",
              "      <th>17</th>\n",
              "      <td>Spain</td>\n",
              "      <td>Developed</td>\n",
              "      <td>82.06875</td>\n",
              "    </tr>\n",
              "    <tr>\n",
              "      <th>18</th>\n",
              "      <td>Sweden</td>\n",
              "      <td>Developed</td>\n",
              "      <td>82.51875</td>\n",
              "    </tr>\n",
              "    <tr>\n",
              "      <th>19</th>\n",
              "      <td>Switzerland</td>\n",
              "      <td>Developed</td>\n",
              "      <td>82.33125</td>\n",
              "    </tr>\n",
              "  </tbody>\n",
              "</table>\n",
              "</div>"
            ],
            "text/plain": [
              "        Country      Status  Life_Expectancy\n",
              "0     Australia   Developed         81.81250\n",
              "1       Austria   Developed         81.48125\n",
              "2       Belgium   Developed         80.68125\n",
              "3        Canada  Developing         81.68750\n",
              "4       Finland  Developing         80.71250\n",
              "5        France  Developing         82.21875\n",
              "6       Germany   Developed         81.17500\n",
              "7        Greece  Developing         81.21875\n",
              "8       Iceland   Developed         82.44375\n",
              "9       Ireland   Developed         80.15000\n",
              "10       Israel  Developing         81.30000\n",
              "11        Italy   Developed         82.18750\n",
              "12        Japan   Developed         82.53750\n",
              "13   Luxembourg   Developed         80.78125\n",
              "14        Malta   Developed         80.36250\n",
              "15  Netherlands   Developed         81.13125\n",
              "16       Norway   Developed         81.79375\n",
              "17        Spain   Developed         82.06875\n",
              "18       Sweden   Developed         82.51875\n",
              "19  Switzerland   Developed         82.33125"
            ]
          },
          "metadata": {
            "tags": []
          },
          "execution_count": 30
        }
      ]
    },
    {
      "cell_type": "code",
      "metadata": {
        "colab": {
          "base_uri": "https://localhost:8080/",
          "height": 513
        },
        "id": "f7aa4fQaf4pQ",
        "outputId": "5104d59d-b58a-4bc8-e8bb-a6efee59d2c6"
      },
      "source": [
        "plt.figure(figsize=(12,8))\n",
        "sns.barplot(y='Country',x='Life_Expectancy',data=status_data,hue='Status')\n",
        "plt.title('Status of country having avg life expectancy > 80')\n",
        "plt.xlabel(\"Avg Life Expectancy\")\n",
        "plt.legend(bbox_to_anchor=(1.02, 1), loc='upper left', borderaxespad=0,title='Status')\n",
        "plt.show()"
      ],
      "execution_count": null,
      "outputs": [
        {
          "output_type": "display_data",
          "data": {
            "image/png": "[encoded data removed]",
            "text/plain": [
              "<Figure size 864x576 with 1 Axes>"
            ]
          },
          "metadata": {
            "tags": [],
            "needs_background": "light"
          }
        }
      ]
    },
    {
      "cell_type": "markdown",
      "metadata": {
        "id": "5VejI_LcQRzs"
      },
      "source": [
        "Insights:\n",
        "\n",
        "There are more developed countries having average life expecatancy > 80."
      ]
    },
    {
      "cell_type": "markdown",
      "metadata": {
        "id": "brZDgmuoZpaW"
      },
      "source": [
        "### 2. Does the alcohol comsumption affect the life expectancy of people?"
      ]
    },
    {
      "cell_type": "code",
      "metadata": {
        "colab": {
          "base_uri": "https://localhost:8080/",
          "height": 110
        },
        "id": "JK1zwBOnnkym",
        "outputId": "3fb640f7-4c51-4d91-fee2-3ae7048f08c9"
      },
      "source": [
        "# finding correlation\n",
        "df[['Alcohol','Life_Expectancy']].corr()"
      ],
      "execution_count": null,
      "outputs": [
        {
          "output_type": "execute_result",
          "data": {
            "text/html": [
              "<div>\n",
              "<style scoped>\n",
              "    .dataframe tbody tr th:only-of-type {\n",
              "        vertical-align: middle;\n",
              "    }\n",
              "\n",
              "    .dataframe tbody tr th {\n",
              "        vertical-align: top;\n",
              "    }\n",
              "\n",
              "    .dataframe thead th {\n",
              "        text-align: right;\n",
              "    }\n",
              "</style>\n",
              "<table border=\"1\" class=\"dataframe\">\n",
              "  <thead>\n",
              "    <tr style=\"text-align: right;\">\n",
              "      <th></th>\n",
              "      <th>Alcohol</th>\n",
              "      <th>Life_Expectancy</th>\n",
              "    </tr>\n",
              "  </thead>\n",
              "  <tbody>\n",
              "    <tr>\n",
              "      <th>Alcohol</th>\n",
              "      <td>1.000000</td>\n",
              "      <td>0.425674</td>\n",
              "    </tr>\n",
              "    <tr>\n",
              "      <th>Life_Expectancy</th>\n",
              "      <td>0.425674</td>\n",
              "      <td>1.000000</td>\n",
              "    </tr>\n",
              "  </tbody>\n",
              "</table>\n",
              "</div>"
            ],
            "text/plain": [
              "                  Alcohol  Life_Expectancy\n",
              "Alcohol          1.000000         0.425674\n",
              "Life_Expectancy  0.425674         1.000000"
            ]
          },
          "metadata": {
            "tags": []
          },
          "execution_count": 32
        }
      ]
    },
    {
      "cell_type": "code",
      "metadata": {
        "id": "cHUCWAYHnkuE"
      },
      "source": [
        "plt.figure(figsize=(15,12))\n",
        "sns.heatmap(df.corr(),annot=True)\n",
        "plt.show()"
      ],
      "execution_count": null,
      "outputs": []
    },
    {
      "cell_type": "markdown",
      "metadata": {
        "id": "vc_SROT0oTu4"
      },
      "source": [
        "### Insights\n",
        "\n",
        "LifeExpectancy has a negative correlation with adult mortality.\n",
        "\n",
        "LifeExpectancy has strong correlatios with Schooling and Income composition of resources.\n",
        "\n",
        "Strong correlation between thinness_1to19_years and thinness_5to9_years\n",
        "\n",
        "There is a non-negligible correlation between LifeExpectancy and BMI and body diseases."
      ]
    },
    {
      "cell_type": "markdown",
      "metadata": {
        "id": "OOMGcsN3Zx1M"
      },
      "source": [
        "### 3. According to 2015, which country has the highest life expectancy?"
      ]
    },
    {
      "cell_type": "code",
      "metadata": {
        "id": "i9jyfkxnpXWp"
      },
      "source": [
        "# Countries with highest life expectancy in 2015\n",
        "LE_high=df[df['Year']==2015].loc[:,['Country','Year','Life_Expectancy']].reset_index()\n",
        "LE_high"
      ],
      "execution_count": null,
      "outputs": []
    },
    {
      "cell_type": "code",
      "metadata": {
        "id": "VQ1bDsElpXSI"
      },
      "source": [
        "LE_high.Life_Expectancy.idxmax()"
      ],
      "execution_count": null,
      "outputs": []
    },
    {
      "cell_type": "code",
      "metadata": {
        "id": "zNT6bXWPpXPp"
      },
      "source": [
        "# country with high life expectancy\n",
        "LE_high.iloc[113]"
      ],
      "execution_count": null,
      "outputs": []
    },
    {
      "cell_type": "code",
      "metadata": {
        "id": "Z-YqnmyMpXOV"
      },
      "source": [
        "LE_high.Life_Expectancy.idxmin()"
      ],
      "execution_count": null,
      "outputs": []
    },
    {
      "cell_type": "code",
      "metadata": {
        "id": "jPOryxrjpXKJ"
      },
      "source": [
        "# country with lowest life expectancy\n",
        "LE_high.iloc[112]"
      ],
      "execution_count": null,
      "outputs": []
    },
    {
      "cell_type": "code",
      "metadata": {
        "id": "4kHxEysopXHp"
      },
      "source": [
        "plt.figure(figsize=(80,78))\n",
        "sns.barplot(y='Country',x='Life_Expectancy',data=LE_high)\n",
        "plt.title('Life Expectancy in 2015',{'fontsize': 80})\n",
        "plt.xticks(rotation=90,fontsize=50)\n",
        "plt.yticks(fontsize=30)\n",
        "plt.show()"
      ],
      "execution_count": null,
      "outputs": []
    },
    {
      "cell_type": "markdown",
      "metadata": {
        "id": "CwfTbYFfqQNU"
      },
      "source": [
        "### Insights\n",
        "\n",
        "According to 2015, the country with highest Life expectancy is Slovenia and the country with least Life Expectancy is Sierra Leone.\n",
        "\n",
        "The highest Life expectancy is 88 and the least is 51 in the year 2015."
      ]
    },
    {
      "cell_type": "markdown",
      "metadata": {
        "id": "kff0wqQ7Z4oJ"
      },
      "source": [
        "### 4.\tDo densely populated countries tend to have lower life expectancy?"
      ]
    },
    {
      "cell_type": "code",
      "metadata": {
        "colab": {
          "base_uri": "https://localhost:8080/",
          "height": 110
        },
        "id": "HTNkFUDCquPK",
        "outputId": "49b8a6a9-ba7a-4200-c791-150a927730bb"
      },
      "source": [
        "# finding correlation\n",
        "Pop=df[['Population','Life_Expectancy']].corr()\n",
        "Pop"
      ],
      "execution_count": null,
      "outputs": [
        {
          "output_type": "execute_result",
          "data": {
            "text/html": [
              "<div>\n",
              "<style scoped>\n",
              "    .dataframe tbody tr th:only-of-type {\n",
              "        vertical-align: middle;\n",
              "    }\n",
              "\n",
              "    .dataframe tbody tr th {\n",
              "        vertical-align: top;\n",
              "    }\n",
              "\n",
              "    .dataframe thead th {\n",
              "        text-align: right;\n",
              "    }\n",
              "</style>\n",
              "<table border=\"1\" class=\"dataframe\">\n",
              "  <thead>\n",
              "    <tr style=\"text-align: right;\">\n",
              "      <th></th>\n",
              "      <th>Population</th>\n",
              "      <th>Life_Expectancy</th>\n",
              "    </tr>\n",
              "  </thead>\n",
              "  <tbody>\n",
              "    <tr>\n",
              "      <th>Population</th>\n",
              "      <td>1.000000</td>\n",
              "      <td>-0.023097</td>\n",
              "    </tr>\n",
              "    <tr>\n",
              "      <th>Life_Expectancy</th>\n",
              "      <td>-0.023097</td>\n",
              "      <td>1.000000</td>\n",
              "    </tr>\n",
              "  </tbody>\n",
              "</table>\n",
              "</div>"
            ],
            "text/plain": [
              "                 Population  Life_Expectancy\n",
              "Population         1.000000        -0.023097\n",
              "Life_Expectancy   -0.023097         1.000000"
            ]
          },
          "metadata": {
            "tags": []
          },
          "execution_count": 123
        }
      ]
    },
    {
      "cell_type": "code",
      "metadata": {
        "colab": {
          "base_uri": "https://localhost:8080/",
          "height": 500
        },
        "id": "SUxuQy69quLl",
        "outputId": "ca83757e-fd06-486b-c63a-b3f42f79b386"
      },
      "source": [
        "plt.figure(figsize=(12,8))\n",
        "sns.heatmap(Pop,annot=True)\n",
        "plt.title('Population and Life Expectancy')\n",
        "plt.show()"
      ],
      "execution_count": null,
      "outputs": [
        {
          "output_type": "display_data",
          "data": {
            "image/png": "[encoded data removed]",
            "text/plain": [
              "<Figure size 864x576 with 2 Axes>"
            ]
          },
          "metadata": {
            "tags": [],
            "needs_background": "light"
          }
        }
      ]
    },
    {
      "cell_type": "code",
      "metadata": {
        "colab": {
          "base_uri": "https://localhost:8080/"
        },
        "id": "jX0VbAwwqt9M",
        "outputId": "b5749619-893b-4fd0-ba48-271401c69b09"
      },
      "source": [
        "# Life expectancy of countries with greater population\n",
        "Pop_high=df.groupby('Country')['Population','Life_Expectancy'].mean().sort_values(by='Population',ascending=False).head(20)\n",
        "Pop_high.reset_index(inplace=True)"
      ],
      "execution_count": null,
      "outputs": [
        {
          "output_type": "stream",
          "text": [
            "/usr/local/lib/python3.7/dist-packages/ipykernel_launcher.py:2: FutureWarning: Indexing with multiple keys (implicitly converted to a tuple of keys) will be deprecated, use a list instead.\n",
            "  \n"
          ],
          "name": "stderr"
        }
      ]
    },
    {
      "cell_type": "code",
      "metadata": {
        "colab": {
          "base_uri": "https://localhost:8080/",
          "height": 598
        },
        "id": "pnJVInxYZxYx",
        "outputId": "3c069180-e9ad-44a2-9612-4512b4758030"
      },
      "source": [
        "plt.figure(figsize=(12,8))\n",
        "sns.barplot(x='Country',hue='Population',data=Pop_high,y='Life_Expectancy')\n",
        "plt.title('Population and Life Expectancy')\n",
        "plt.xticks(rotation=90)\n",
        "plt.legend(bbox_to_anchor=(1.02, 1), loc='upper left', borderaxespad=0,title='Population')\n",
        "plt.show()"
      ],
      "execution_count": null,
      "outputs": [
        {
          "output_type": "display_data",
          "data": {
            "image/png": "[encoded data removed]",
            "text/plain": [
              "<Figure size 864x576 with 1 Axes>"
            ]
          },
          "metadata": {
            "tags": [],
            "needs_background": "light"
          }
        }
      ]
    },
    {
      "cell_type": "code",
      "metadata": {
        "colab": {
          "base_uri": "https://localhost:8080/"
        },
        "id": "iwpkb98AtaEZ",
        "outputId": "059e18d9-970f-463d-e57b-a22d1ca5c6f4"
      },
      "source": [
        "df.Life_Expectancy.max()"
      ],
      "execution_count": null,
      "outputs": [
        {
          "output_type": "execute_result",
          "data": {
            "text/plain": [
              "89.0"
            ]
          },
          "metadata": {
            "tags": []
          },
          "execution_count": 127
        }
      ]
    },
    {
      "cell_type": "markdown",
      "metadata": {
        "id": "3_vMkKhbtNDe"
      },
      "source": [
        "###Insights\n",
        "\n",
        "Maximum value of life expectancy is 89.0. But from this graph, we can see that some countries with higher population have a higher life expectancy of more than 70.0 while some countries don't.\n",
        "\n",
        "So we cannot say that countries with greater population tends to have lower life expectancy."
      ]
    },
    {
      "cell_type": "markdown",
      "metadata": {
        "id": "Q0JzIBlRZ_89"
      },
      "source": [
        "### 5.\tWhat is the impact of Immunization coverage on life Expectancy?"
      ]
    },
    {
      "cell_type": "code",
      "metadata": {
        "colab": {
          "base_uri": "https://localhost:8080/"
        },
        "id": "NsydX52mti5P",
        "outputId": "77165c21-11f4-44fc-cc3d-5f2dab3277e9"
      },
      "source": [
        "# Finding correlation\n",
        "df[['Life_Expectancy','Polio','Diphtheria','HepatitisB']].corr().Life_Expectancy"
      ],
      "execution_count": null,
      "outputs": [
        {
          "output_type": "execute_result",
          "data": {
            "text/plain": [
              "Life_Expectancy    1.000000\n",
              "Polio              0.432149\n",
              "Diphtheria         0.453136\n",
              "HepatitisB         0.211894\n",
              "Name: Life_Expectancy, dtype: float64"
            ]
          },
          "metadata": {
            "tags": []
          },
          "execution_count": 51
        }
      ]
    },
    {
      "cell_type": "markdown",
      "metadata": {
        "id": "zrYLEuO0tsZs"
      },
      "source": [
        "### Insights\n",
        "\n",
        "Life expectancy has a +ve correlation with all the immunizations.So the increase in immunization of Polio and Diphtheria will provide an increase in the Life_Expectancy over the nations world-wide."
      ]
    },
    {
      "cell_type": "markdown",
      "metadata": {
        "id": "9BPbmlyGaFYg"
      },
      "source": [
        "### 6.\tWhat is the impact of schooling on the lifespan of humans?"
      ]
    },
    {
      "cell_type": "code",
      "metadata": {
        "colab": {
          "base_uri": "https://localhost:8080/",
          "height": 110
        },
        "id": "d55ocjRxt5iN",
        "outputId": "19dc58e2-b7c7-4dcd-c94e-dfa8037de763"
      },
      "source": [
        "# finding correlation\n",
        "df[['Life_Expectancy','Schooling']].corr()"
      ],
      "execution_count": null,
      "outputs": [
        {
          "output_type": "execute_result",
          "data": {
            "text/html": [
              "<div>\n",
              "<style scoped>\n",
              "    .dataframe tbody tr th:only-of-type {\n",
              "        vertical-align: middle;\n",
              "    }\n",
              "\n",
              "    .dataframe tbody tr th {\n",
              "        vertical-align: top;\n",
              "    }\n",
              "\n",
              "    .dataframe thead th {\n",
              "        text-align: right;\n",
              "    }\n",
              "</style>\n",
              "<table border=\"1\" class=\"dataframe\">\n",
              "  <thead>\n",
              "    <tr style=\"text-align: right;\">\n",
              "      <th></th>\n",
              "      <th>Life_Expectancy</th>\n",
              "      <th>Schooling</th>\n",
              "    </tr>\n",
              "  </thead>\n",
              "  <tbody>\n",
              "    <tr>\n",
              "      <th>Life_Expectancy</th>\n",
              "      <td>1.00000</td>\n",
              "      <td>0.76965</td>\n",
              "    </tr>\n",
              "    <tr>\n",
              "      <th>Schooling</th>\n",
              "      <td>0.76965</td>\n",
              "      <td>1.00000</td>\n",
              "    </tr>\n",
              "  </tbody>\n",
              "</table>\n",
              "</div>"
            ],
            "text/plain": [
              "                 Life_Expectancy  Schooling\n",
              "Life_Expectancy          1.00000    0.76965\n",
              "Schooling                0.76965    1.00000"
            ]
          },
          "metadata": {
            "tags": []
          },
          "execution_count": 116
        }
      ]
    },
    {
      "cell_type": "code",
      "metadata": {
        "colab": {
          "base_uri": "https://localhost:8080/",
          "height": 337
        },
        "id": "WYhoG3F6ZxSe",
        "outputId": "aba1d9a1-4057-488d-9f02-cb31a9f5f0cc"
      },
      "source": [
        "plt.figure(figsize=(10,5))\n",
        "sns.heatmap(df[['Life_Expectancy','Schooling']].corr(),annot=True)\n",
        "plt.title('Life Expectancy and Schooling Years')\n",
        "plt.show()"
      ],
      "execution_count": null,
      "outputs": [
        {
          "output_type": "display_data",
          "data": {
            "image/png": "[encoded data removed]",
            "text/plain": [
              "<Figure size 720x360 with 2 Axes>"
            ]
          },
          "metadata": {
            "tags": [],
            "needs_background": "light"
          }
        }
      ]
    },
    {
      "cell_type": "markdown",
      "metadata": {
        "id": "P8tE66zvuXKs"
      },
      "source": [
        "### Insights\n",
        "\n",
        "Schoolings have a positive correlation on the life span of humans,ie, People having higher education tends to live long."
      ]
    },
    {
      "cell_type": "markdown",
      "metadata": {
        "id": "twgOPvD6aMUG"
      },
      "source": [
        "### 7. Should a country having a lower life expectancy value(< 65) increase its healthcare expenditure in order to improve its average lifespan?"
      ]
    },
    {
      "cell_type": "code",
      "metadata": {
        "colab": {
          "base_uri": "https://localhost:8080/",
          "height": 110
        },
        "id": "r6Zo9IINugcn",
        "outputId": "0d660ee7-bfbc-46f5-da76-9552891312b5"
      },
      "source": [
        "# finding correlation\n",
        "df[['Life_Expectancy','Tot_Exp']].corr()"
      ],
      "execution_count": null,
      "outputs": [
        {
          "output_type": "execute_result",
          "data": {
            "text/html": [
              "<div>\n",
              "<style scoped>\n",
              "    .dataframe tbody tr th:only-of-type {\n",
              "        vertical-align: middle;\n",
              "    }\n",
              "\n",
              "    .dataframe tbody tr th {\n",
              "        vertical-align: top;\n",
              "    }\n",
              "\n",
              "    .dataframe thead th {\n",
              "        text-align: right;\n",
              "    }\n",
              "</style>\n",
              "<table border=\"1\" class=\"dataframe\">\n",
              "  <thead>\n",
              "    <tr style=\"text-align: right;\">\n",
              "      <th></th>\n",
              "      <th>Life_Expectancy</th>\n",
              "      <th>Tot_Exp</th>\n",
              "    </tr>\n",
              "  </thead>\n",
              "  <tbody>\n",
              "    <tr>\n",
              "      <th>Life_Expectancy</th>\n",
              "      <td>1.000000</td>\n",
              "      <td>0.238861</td>\n",
              "    </tr>\n",
              "    <tr>\n",
              "      <th>Tot_Exp</th>\n",
              "      <td>0.238861</td>\n",
              "      <td>1.000000</td>\n",
              "    </tr>\n",
              "  </tbody>\n",
              "</table>\n",
              "</div>"
            ],
            "text/plain": [
              "                 Life_Expectancy   Tot_Exp\n",
              "Life_Expectancy         1.000000  0.238861\n",
              "Tot_Exp                 0.238861  1.000000"
            ]
          },
          "metadata": {
            "tags": []
          },
          "execution_count": 55
        }
      ]
    },
    {
      "cell_type": "code",
      "metadata": {
        "colab": {
          "base_uri": "https://localhost:8080/",
          "height": 1000
        },
        "id": "whkBb0P3ugYe",
        "outputId": "d01f4de6-1584-49c6-97fe-933719795d6a"
      },
      "source": [
        "# tot exp of country with life expectancy < 65\n",
        "df[df['Life_Expectancy']<65].groupby('Country')['Life_Expectancy','Tot_Exp'].mean().sort_values(by='Tot_Exp',ascending=False)"
      ],
      "execution_count": null,
      "outputs": [
        {
          "output_type": "stream",
          "text": [
            "/usr/local/lib/python3.7/dist-packages/ipykernel_launcher.py:1: FutureWarning: Indexing with multiple keys (implicitly converted to a tuple of keys) will be deprecated, use a list instead.\n",
            "  \"\"\"Entry point for launching an IPython kernel.\n"
          ],
          "name": "stderr"
        },
        {
          "output_type": "execute_result",
          "data": {
            "text/html": [
              "<div>\n",
              "<style scoped>\n",
              "    .dataframe tbody tr th:only-of-type {\n",
              "        vertical-align: middle;\n",
              "    }\n",
              "\n",
              "    .dataframe tbody tr th {\n",
              "        vertical-align: top;\n",
              "    }\n",
              "\n",
              "    .dataframe thead th {\n",
              "        text-align: right;\n",
              "    }\n",
              "</style>\n",
              "<table border=\"1\" class=\"dataframe\">\n",
              "  <thead>\n",
              "    <tr style=\"text-align: right;\">\n",
              "      <th></th>\n",
              "      <th>Life_Expectancy</th>\n",
              "      <th>Tot_Exp</th>\n",
              "    </tr>\n",
              "    <tr>\n",
              "      <th>Country</th>\n",
              "      <th></th>\n",
              "      <th></th>\n",
              "    </tr>\n",
              "  </thead>\n",
              "  <tbody>\n",
              "    <tr>\n",
              "      <th>Sierra Leone</th>\n",
              "      <td>46.112500</td>\n",
              "      <td>9.385625</td>\n",
              "    </tr>\n",
              "    <tr>\n",
              "      <th>Uganda</th>\n",
              "      <td>54.953333</td>\n",
              "      <td>8.525333</td>\n",
              "    </tr>\n",
              "    <tr>\n",
              "      <th>South Africa</th>\n",
              "      <td>56.733333</td>\n",
              "      <td>8.307333</td>\n",
              "    </tr>\n",
              "    <tr>\n",
              "      <th>Afghanistan</th>\n",
              "      <td>57.740000</td>\n",
              "      <td>8.258667</td>\n",
              "    </tr>\n",
              "    <tr>\n",
              "      <th>Swaziland</th>\n",
              "      <td>51.325000</td>\n",
              "      <td>7.430000</td>\n",
              "    </tr>\n",
              "    <tr>\n",
              "      <th>Lesotho</th>\n",
              "      <td>48.781250</td>\n",
              "      <td>7.233125</td>\n",
              "    </tr>\n",
              "    <tr>\n",
              "      <th>Burundi</th>\n",
              "      <td>55.537500</td>\n",
              "      <td>7.117500</td>\n",
              "    </tr>\n",
              "    <tr>\n",
              "      <th>Namibia</th>\n",
              "      <td>58.566667</td>\n",
              "      <td>7.106667</td>\n",
              "    </tr>\n",
              "    <tr>\n",
              "      <th>Malawi</th>\n",
              "      <td>49.893750</td>\n",
              "      <td>6.953750</td>\n",
              "    </tr>\n",
              "    <tr>\n",
              "      <th>Liberia</th>\n",
              "      <td>56.893333</td>\n",
              "      <td>6.858000</td>\n",
              "    </tr>\n",
              "    <tr>\n",
              "      <th>Djibouti</th>\n",
              "      <td>60.206667</td>\n",
              "      <td>6.617333</td>\n",
              "    </tr>\n",
              "    <tr>\n",
              "      <th>Niger</th>\n",
              "      <td>56.180000</td>\n",
              "      <td>6.572000</td>\n",
              "    </tr>\n",
              "    <tr>\n",
              "      <th>Mali</th>\n",
              "      <td>54.937500</td>\n",
              "      <td>6.543750</td>\n",
              "    </tr>\n",
              "    <tr>\n",
              "      <th>Kiribati</th>\n",
              "      <td>64.566667</td>\n",
              "      <td>6.531667</td>\n",
              "    </tr>\n",
              "    <tr>\n",
              "      <th>Haiti</th>\n",
              "      <td>59.526667</td>\n",
              "      <td>6.393333</td>\n",
              "    </tr>\n",
              "    <tr>\n",
              "      <th>Zimbabwe</th>\n",
              "      <td>49.386667</td>\n",
              "      <td>6.158667</td>\n",
              "    </tr>\n",
              "    <tr>\n",
              "      <th>Mozambique</th>\n",
              "      <td>53.393750</td>\n",
              "      <td>6.035625</td>\n",
              "    </tr>\n",
              "    <tr>\n",
              "      <th>Rwanda</th>\n",
              "      <td>57.000000</td>\n",
              "      <td>6.031667</td>\n",
              "    </tr>\n",
              "    <tr>\n",
              "      <th>Bhutan</th>\n",
              "      <td>62.740000</td>\n",
              "      <td>5.976000</td>\n",
              "    </tr>\n",
              "    <tr>\n",
              "      <th>Burkina Faso</th>\n",
              "      <td>55.643750</td>\n",
              "      <td>5.970625</td>\n",
              "    </tr>\n",
              "    <tr>\n",
              "      <th>Cambodia</th>\n",
              "      <td>61.000000</td>\n",
              "      <td>5.858571</td>\n",
              "    </tr>\n",
              "    <tr>\n",
              "      <th>Guinea-Bissau</th>\n",
              "      <td>55.368750</td>\n",
              "      <td>5.853125</td>\n",
              "    </tr>\n",
              "    <tr>\n",
              "      <th>Zambia</th>\n",
              "      <td>53.906250</td>\n",
              "      <td>5.771875</td>\n",
              "    </tr>\n",
              "    <tr>\n",
              "      <th>Mongolia</th>\n",
              "      <td>63.716667</td>\n",
              "      <td>5.708333</td>\n",
              "    </tr>\n",
              "    <tr>\n",
              "      <th>Russian Federation</th>\n",
              "      <td>64.766667</td>\n",
              "      <td>5.596667</td>\n",
              "    </tr>\n",
              "    <tr>\n",
              "      <th>Nepal</th>\n",
              "      <td>63.560000</td>\n",
              "      <td>5.538000</td>\n",
              "    </tr>\n",
              "    <tr>\n",
              "      <th>Botswana</th>\n",
              "      <td>54.714286</td>\n",
              "      <td>5.517857</td>\n",
              "    </tr>\n",
              "    <tr>\n",
              "      <th>Sao Tome and Principe</th>\n",
              "      <td>63.683333</td>\n",
              "      <td>5.465000</td>\n",
              "    </tr>\n",
              "    <tr>\n",
              "      <th>Papua New Guinea</th>\n",
              "      <td>61.142857</td>\n",
              "      <td>5.430000</td>\n",
              "    </tr>\n",
              "    <tr>\n",
              "      <th>Togo</th>\n",
              "      <td>56.662500</td>\n",
              "      <td>5.243750</td>\n",
              "    </tr>\n",
              "    <tr>\n",
              "      <th>Senegal</th>\n",
              "      <td>61.036364</td>\n",
              "      <td>5.021818</td>\n",
              "    </tr>\n",
              "    <tr>\n",
              "      <th>Comoros</th>\n",
              "      <td>61.286667</td>\n",
              "      <td>4.953333</td>\n",
              "    </tr>\n",
              "    <tr>\n",
              "      <th>Ethiopia</th>\n",
              "      <td>58.520000</td>\n",
              "      <td>4.932667</td>\n",
              "    </tr>\n",
              "    <tr>\n",
              "      <th>Madagascar</th>\n",
              "      <td>61.869231</td>\n",
              "      <td>4.766154</td>\n",
              "    </tr>\n",
              "    <tr>\n",
              "      <th>Kenya</th>\n",
              "      <td>57.481250</td>\n",
              "      <td>4.734375</td>\n",
              "    </tr>\n",
              "    <tr>\n",
              "      <th>Cameroon</th>\n",
              "      <td>54.018750</td>\n",
              "      <td>4.680625</td>\n",
              "    </tr>\n",
              "    <tr>\n",
              "      <th>Benin</th>\n",
              "      <td>57.568750</td>\n",
              "      <td>4.633125</td>\n",
              "    </tr>\n",
              "    <tr>\n",
              "      <th>Tajikistan</th>\n",
              "      <td>64.000000</td>\n",
              "      <td>4.570000</td>\n",
              "    </tr>\n",
              "    <tr>\n",
              "      <th>Chad</th>\n",
              "      <td>50.387500</td>\n",
              "      <td>4.331875</td>\n",
              "    </tr>\n",
              "    <tr>\n",
              "      <th>India</th>\n",
              "      <td>63.657143</td>\n",
              "      <td>4.315714</td>\n",
              "    </tr>\n",
              "    <tr>\n",
              "      <th>Ghana</th>\n",
              "      <td>59.914286</td>\n",
              "      <td>4.142143</td>\n",
              "    </tr>\n",
              "    <tr>\n",
              "      <th>Guinea</th>\n",
              "      <td>56.012500</td>\n",
              "      <td>4.111250</td>\n",
              "    </tr>\n",
              "    <tr>\n",
              "      <th>Central African Republic</th>\n",
              "      <td>48.512500</td>\n",
              "      <td>4.049375</td>\n",
              "    </tr>\n",
              "    <tr>\n",
              "      <th>Mauritania</th>\n",
              "      <td>62.128571</td>\n",
              "      <td>3.955714</td>\n",
              "    </tr>\n",
              "    <tr>\n",
              "      <th>Kazakhstan</th>\n",
              "      <td>64.450000</td>\n",
              "      <td>3.931667</td>\n",
              "    </tr>\n",
              "    <tr>\n",
              "      <th>Angola</th>\n",
              "      <td>49.018750</td>\n",
              "      <td>3.881250</td>\n",
              "    </tr>\n",
              "    <tr>\n",
              "      <th>Nigeria</th>\n",
              "      <td>51.356250</td>\n",
              "      <td>3.708125</td>\n",
              "    </tr>\n",
              "    <tr>\n",
              "      <th>Eritrea</th>\n",
              "      <td>58.845455</td>\n",
              "      <td>3.538182</td>\n",
              "    </tr>\n",
              "    <tr>\n",
              "      <th>Turkmenistan</th>\n",
              "      <td>63.733333</td>\n",
              "      <td>3.311111</td>\n",
              "    </tr>\n",
              "    <tr>\n",
              "      <th>Gabon</th>\n",
              "      <td>61.492308</td>\n",
              "      <td>3.186923</td>\n",
              "    </tr>\n",
              "    <tr>\n",
              "      <th>Iraq</th>\n",
              "      <td>64.700000</td>\n",
              "      <td>3.000000</td>\n",
              "    </tr>\n",
              "    <tr>\n",
              "      <th>Equatorial Guinea</th>\n",
              "      <td>55.312500</td>\n",
              "      <td>2.983750</td>\n",
              "    </tr>\n",
              "    <tr>\n",
              "      <th>Pakistan</th>\n",
              "      <td>63.710000</td>\n",
              "      <td>2.919000</td>\n",
              "    </tr>\n",
              "    <tr>\n",
              "      <th>Timor-Leste</th>\n",
              "      <td>61.714286</td>\n",
              "      <td>2.405714</td>\n",
              "    </tr>\n",
              "    <tr>\n",
              "      <th>Myanmar</th>\n",
              "      <td>62.877778</td>\n",
              "      <td>1.915556</td>\n",
              "    </tr>\n",
              "  </tbody>\n",
              "</table>\n",
              "</div>"
            ],
            "text/plain": [
              "                          Life_Expectancy   Tot_Exp\n",
              "Country                                            \n",
              "Sierra Leone                    46.112500  9.385625\n",
              "Uganda                          54.953333  8.525333\n",
              "South Africa                    56.733333  8.307333\n",
              "Afghanistan                     57.740000  8.258667\n",
              "Swaziland                       51.325000  7.430000\n",
              "Lesotho                         48.781250  7.233125\n",
              "Burundi                         55.537500  7.117500\n",
              "Namibia                         58.566667  7.106667\n",
              "Malawi                          49.893750  6.953750\n",
              "Liberia                         56.893333  6.858000\n",
              "Djibouti                        60.206667  6.617333\n",
              "Niger                           56.180000  6.572000\n",
              "Mali                            54.937500  6.543750\n",
              "Kiribati                        64.566667  6.531667\n",
              "Haiti                           59.526667  6.393333\n",
              "Zimbabwe                        49.386667  6.158667\n",
              "Mozambique                      53.393750  6.035625\n",
              "Rwanda                          57.000000  6.031667\n",
              "Bhutan                          62.740000  5.976000\n",
              "Burkina Faso                    55.643750  5.970625\n",
              "Cambodia                        61.000000  5.858571\n",
              "Guinea-Bissau                   55.368750  5.853125\n",
              "Zambia                          53.906250  5.771875\n",
              "Mongolia                        63.716667  5.708333\n",
              "Russian Federation              64.766667  5.596667\n",
              "Nepal                           63.560000  5.538000\n",
              "Botswana                        54.714286  5.517857\n",
              "Sao Tome and Principe           63.683333  5.465000\n",
              "Papua New Guinea                61.142857  5.430000\n",
              "Togo                            56.662500  5.243750\n",
              "Senegal                         61.036364  5.021818\n",
              "Comoros                         61.286667  4.953333\n",
              "Ethiopia                        58.520000  4.932667\n",
              "Madagascar                      61.869231  4.766154\n",
              "Kenya                           57.481250  4.734375\n",
              "Cameroon                        54.018750  4.680625\n",
              "Benin                           57.568750  4.633125\n",
              "Tajikistan                      64.000000  4.570000\n",
              "Chad                            50.387500  4.331875\n",
              "India                           63.657143  4.315714\n",
              "Ghana                           59.914286  4.142143\n",
              "Guinea                          56.012500  4.111250\n",
              "Central African Republic        48.512500  4.049375\n",
              "Mauritania                      62.128571  3.955714\n",
              "Kazakhstan                      64.450000  3.931667\n",
              "Angola                          49.018750  3.881250\n",
              "Nigeria                         51.356250  3.708125\n",
              "Eritrea                         58.845455  3.538182\n",
              "Turkmenistan                    63.733333  3.311111\n",
              "Gabon                           61.492308  3.186923\n",
              "Iraq                            64.700000  3.000000\n",
              "Equatorial Guinea               55.312500  2.983750\n",
              "Pakistan                        63.710000  2.919000\n",
              "Timor-Leste                     61.714286  2.405714\n",
              "Myanmar                         62.877778  1.915556"
            ]
          },
          "metadata": {
            "tags": []
          },
          "execution_count": 56
        }
      ]
    },
    {
      "cell_type": "code",
      "metadata": {
        "colab": {
          "base_uri": "https://localhost:8080/",
          "height": 504
        },
        "id": "EHH6UbNnugV3",
        "outputId": "cfc33bfa-8671-42ae-b7e4-0fd3355de4ee"
      },
      "source": [
        "# tot exp of country with life expectancy > 65\n",
        "df[df['Life_Expectancy']>65].groupby('Country')['Life_Expectancy','Tot_Exp'].mean().sort_values(by='Tot_Exp',ascending=False)"
      ],
      "execution_count": null,
      "outputs": [
        {
          "output_type": "stream",
          "text": [
            "/usr/local/lib/python3.7/dist-packages/ipykernel_launcher.py:1: FutureWarning: Indexing with multiple keys (implicitly converted to a tuple of keys) will be deprecated, use a list instead.\n",
            "  \"\"\"Entry point for launching an IPython kernel.\n"
          ],
          "name": "stderr"
        },
        {
          "output_type": "execute_result",
          "data": {
            "text/html": [
              "<div>\n",
              "<style scoped>\n",
              "    .dataframe tbody tr th:only-of-type {\n",
              "        vertical-align: middle;\n",
              "    }\n",
              "\n",
              "    .dataframe tbody tr th {\n",
              "        vertical-align: top;\n",
              "    }\n",
              "\n",
              "    .dataframe thead th {\n",
              "        text-align: right;\n",
              "    }\n",
              "</style>\n",
              "<table border=\"1\" class=\"dataframe\">\n",
              "  <thead>\n",
              "    <tr style=\"text-align: right;\">\n",
              "      <th></th>\n",
              "      <th>Life_Expectancy</th>\n",
              "      <th>Tot_Exp</th>\n",
              "    </tr>\n",
              "    <tr>\n",
              "      <th>Country</th>\n",
              "      <th></th>\n",
              "      <th></th>\n",
              "    </tr>\n",
              "  </thead>\n",
              "  <tbody>\n",
              "    <tr>\n",
              "      <th>Sweden</th>\n",
              "      <td>82.518750</td>\n",
              "      <td>10.057500</td>\n",
              "    </tr>\n",
              "    <tr>\n",
              "      <th>Norway</th>\n",
              "      <td>81.793750</td>\n",
              "      <td>9.125625</td>\n",
              "    </tr>\n",
              "    <tr>\n",
              "      <th>Greece</th>\n",
              "      <td>81.218750</td>\n",
              "      <td>9.023750</td>\n",
              "    </tr>\n",
              "    <tr>\n",
              "      <th>Slovenia</th>\n",
              "      <td>79.731250</td>\n",
              "      <td>8.878750</td>\n",
              "    </tr>\n",
              "    <tr>\n",
              "      <th>Australia</th>\n",
              "      <td>81.812500</td>\n",
              "      <td>8.873125</td>\n",
              "    </tr>\n",
              "    <tr>\n",
              "      <th>...</th>\n",
              "      <td>...</td>\n",
              "      <td>...</td>\n",
              "    </tr>\n",
              "    <tr>\n",
              "      <th>Indonesia</th>\n",
              "      <td>67.556250</td>\n",
              "      <td>2.675000</td>\n",
              "    </tr>\n",
              "    <tr>\n",
              "      <th>Turkmenistan</th>\n",
              "      <td>65.757143</td>\n",
              "      <td>2.190000</td>\n",
              "    </tr>\n",
              "    <tr>\n",
              "      <th>Myanmar</th>\n",
              "      <td>65.900000</td>\n",
              "      <td>2.175714</td>\n",
              "    </tr>\n",
              "    <tr>\n",
              "      <th>Liberia</th>\n",
              "      <td>67.000000</td>\n",
              "      <td>1.190000</td>\n",
              "    </tr>\n",
              "    <tr>\n",
              "      <th>Timor-Leste</th>\n",
              "      <td>67.122222</td>\n",
              "      <td>1.037778</td>\n",
              "    </tr>\n",
              "  </tbody>\n",
              "</table>\n",
              "<p>119 rows × 2 columns</p>\n",
              "</div>"
            ],
            "text/plain": [
              "              Life_Expectancy    Tot_Exp\n",
              "Country                                 \n",
              "Sweden              82.518750  10.057500\n",
              "Norway              81.793750   9.125625\n",
              "Greece              81.218750   9.023750\n",
              "Slovenia            79.731250   8.878750\n",
              "Australia           81.812500   8.873125\n",
              "...                       ...        ...\n",
              "Indonesia           67.556250   2.675000\n",
              "Turkmenistan        65.757143   2.190000\n",
              "Myanmar             65.900000   2.175714\n",
              "Liberia             67.000000   1.190000\n",
              "Timor-Leste         67.122222   1.037778\n",
              "\n",
              "[119 rows x 2 columns]"
            ]
          },
          "metadata": {
            "tags": []
          },
          "execution_count": 57
        }
      ]
    },
    {
      "cell_type": "markdown",
      "metadata": {
        "id": "gk98wKFEux_-"
      },
      "source": [
        "### Insights\n",
        "\n",
        "Since the total expenditure on health has very small correlation with Life expectancy and also from the two tables it is clear that the average expenditure on health on countries with life expectancy>65 is approximately the same as countries with life expectancy < 65.\n",
        "\n",
        "\n",
        "So we cannot say that the countries having life expectancy < 65 should improve its health care expenditure."
      ]
    },
    {
      "cell_type": "markdown",
      "metadata": {
        "id": "0JMWikjsaS6G"
      },
      "source": [
        "### 8. What can we say about the life expectancy of a country having BMI>30?"
      ]
    },
    {
      "cell_type": "code",
      "metadata": {
        "colab": {
          "base_uri": "https://localhost:8080/",
          "height": 110
        },
        "id": "Eo2MLa8rvQyi",
        "outputId": "48dbdfb5-a031-4aa0-fdc6-d54474b1397e"
      },
      "source": [
        "# finding correlation\n",
        "df[['Life_Expectancy','BMI']].corr()"
      ],
      "execution_count": null,
      "outputs": [
        {
          "output_type": "execute_result",
          "data": {
            "text/html": [
              "<div>\n",
              "<style scoped>\n",
              "    .dataframe tbody tr th:only-of-type {\n",
              "        vertical-align: middle;\n",
              "    }\n",
              "\n",
              "    .dataframe tbody tr th {\n",
              "        vertical-align: top;\n",
              "    }\n",
              "\n",
              "    .dataframe thead th {\n",
              "        text-align: right;\n",
              "    }\n",
              "</style>\n",
              "<table border=\"1\" class=\"dataframe\">\n",
              "  <thead>\n",
              "    <tr style=\"text-align: right;\">\n",
              "      <th></th>\n",
              "      <th>Life_Expectancy</th>\n",
              "      <th>BMI</th>\n",
              "    </tr>\n",
              "  </thead>\n",
              "  <tbody>\n",
              "    <tr>\n",
              "      <th>Life_Expectancy</th>\n",
              "      <td>1.000000</td>\n",
              "      <td>0.592809</td>\n",
              "    </tr>\n",
              "    <tr>\n",
              "      <th>BMI</th>\n",
              "      <td>0.592809</td>\n",
              "      <td>1.000000</td>\n",
              "    </tr>\n",
              "  </tbody>\n",
              "</table>\n",
              "</div>"
            ],
            "text/plain": [
              "                 Life_Expectancy       BMI\n",
              "Life_Expectancy         1.000000  0.592809\n",
              "BMI                     0.592809  1.000000"
            ]
          },
          "metadata": {
            "tags": []
          },
          "execution_count": 58
        }
      ]
    },
    {
      "cell_type": "code",
      "metadata": {
        "colab": {
          "base_uri": "https://localhost:8080/",
          "height": 473
        },
        "id": "7aiVAGqyZw93",
        "outputId": "44cc8581-4a1b-4b59-8da6-dfdd21b68d30"
      },
      "source": [
        "# Life expectancy of country with bmi>30\n",
        "bmi=df[df['BMI']>30].groupby('Country')['Life_Expectancy','BMI'].mean().sort_values(by='BMI',ascending=False)\n",
        "bmi.reset_index(inplace=True)\n",
        "bmi"
      ],
      "execution_count": null,
      "outputs": [
        {
          "output_type": "stream",
          "text": [
            "/usr/local/lib/python3.7/dist-packages/ipykernel_launcher.py:1: FutureWarning: Indexing with multiple keys (implicitly converted to a tuple of keys) will be deprecated, use a list instead.\n",
            "  \"\"\"Entry point for launching an IPython kernel.\n"
          ],
          "name": "stderr"
        },
        {
          "output_type": "execute_result",
          "data": {
            "text/html": [
              "<div>\n",
              "<style scoped>\n",
              "    .dataframe tbody tr th:only-of-type {\n",
              "        vertical-align: middle;\n",
              "    }\n",
              "\n",
              "    .dataframe tbody tr th {\n",
              "        vertical-align: top;\n",
              "    }\n",
              "\n",
              "    .dataframe thead th {\n",
              "        text-align: right;\n",
              "    }\n",
              "</style>\n",
              "<table border=\"1\" class=\"dataframe\">\n",
              "  <thead>\n",
              "    <tr style=\"text-align: right;\">\n",
              "      <th></th>\n",
              "      <th>Country</th>\n",
              "      <th>Life_Expectancy</th>\n",
              "      <th>BMI</th>\n",
              "    </tr>\n",
              "  </thead>\n",
              "  <tbody>\n",
              "    <tr>\n",
              "      <th>0</th>\n",
              "      <td>Kiribati</td>\n",
              "      <td>65.180000</td>\n",
              "      <td>73.553333</td>\n",
              "    </tr>\n",
              "    <tr>\n",
              "      <th>1</th>\n",
              "      <td>Tonga</td>\n",
              "      <td>72.542857</td>\n",
              "      <td>70.871429</td>\n",
              "    </tr>\n",
              "    <tr>\n",
              "      <th>2</th>\n",
              "      <td>Samoa</td>\n",
              "      <td>73.835714</td>\n",
              "      <td>70.807143</td>\n",
              "    </tr>\n",
              "    <tr>\n",
              "      <th>3</th>\n",
              "      <td>Malta</td>\n",
              "      <td>80.362500</td>\n",
              "      <td>66.181250</td>\n",
              "    </tr>\n",
              "    <tr>\n",
              "      <th>4</th>\n",
              "      <td>Canada</td>\n",
              "      <td>81.950000</td>\n",
              "      <td>62.942857</td>\n",
              "    </tr>\n",
              "    <tr>\n",
              "      <th>...</th>\n",
              "      <td>...</td>\n",
              "      <td>...</td>\n",
              "      <td>...</td>\n",
              "    </tr>\n",
              "    <tr>\n",
              "      <th>92</th>\n",
              "      <td>Mauritius</td>\n",
              "      <td>74.080000</td>\n",
              "      <td>32.300000</td>\n",
              "    </tr>\n",
              "    <tr>\n",
              "      <th>93</th>\n",
              "      <td>Lesotho</td>\n",
              "      <td>52.633333</td>\n",
              "      <td>32.000000</td>\n",
              "    </tr>\n",
              "    <tr>\n",
              "      <th>94</th>\n",
              "      <td>Swaziland</td>\n",
              "      <td>58.300000</td>\n",
              "      <td>31.766667</td>\n",
              "    </tr>\n",
              "    <tr>\n",
              "      <th>95</th>\n",
              "      <td>Zimbabwe</td>\n",
              "      <td>63.100000</td>\n",
              "      <td>31.550000</td>\n",
              "    </tr>\n",
              "    <tr>\n",
              "      <th>96</th>\n",
              "      <td>Cabo Verde</td>\n",
              "      <td>73.300000</td>\n",
              "      <td>31.300000</td>\n",
              "    </tr>\n",
              "  </tbody>\n",
              "</table>\n",
              "<p>97 rows × 3 columns</p>\n",
              "</div>"
            ],
            "text/plain": [
              "       Country  Life_Expectancy        BMI\n",
              "0     Kiribati        65.180000  73.553333\n",
              "1        Tonga        72.542857  70.871429\n",
              "2        Samoa        73.835714  70.807143\n",
              "3        Malta        80.362500  66.181250\n",
              "4       Canada        81.950000  62.942857\n",
              "..         ...              ...        ...\n",
              "92   Mauritius        74.080000  32.300000\n",
              "93     Lesotho        52.633333  32.000000\n",
              "94   Swaziland        58.300000  31.766667\n",
              "95    Zimbabwe        63.100000  31.550000\n",
              "96  Cabo Verde        73.300000  31.300000\n",
              "\n",
              "[97 rows x 3 columns]"
            ]
          },
          "metadata": {
            "tags": []
          },
          "execution_count": 59
        }
      ]
    },
    {
      "cell_type": "markdown",
      "metadata": {
        "id": "aSLylXjIvmel"
      },
      "source": [
        "### Insights\n",
        "\n",
        "Countries with higher BMI have higher life expectancy."
      ]
    },
    {
      "cell_type": "markdown",
      "metadata": {
        "id": "j_Jlkx1Taavp"
      },
      "source": [
        "### 9. Infant death in india during 2000-2015."
      ]
    },
    {
      "cell_type": "code",
      "metadata": {
        "colab": {
          "base_uri": "https://localhost:8080/",
          "height": 544
        },
        "id": "S2dTPAZSwkUh",
        "outputId": "170d7094-a890-426d-b7f5-c8265d06de9b"
      },
      "source": [
        "Ind_id=df[df['Country']=='India'].loc[:,['Country','Infant_Deaths','Year']]\n",
        "Ind_id"
      ],
      "execution_count": null,
      "outputs": [
        {
          "output_type": "execute_result",
          "data": {
            "text/html": [
              "<div>\n",
              "<style scoped>\n",
              "    .dataframe tbody tr th:only-of-type {\n",
              "        vertical-align: middle;\n",
              "    }\n",
              "\n",
              "    .dataframe tbody tr th {\n",
              "        vertical-align: top;\n",
              "    }\n",
              "\n",
              "    .dataframe thead th {\n",
              "        text-align: right;\n",
              "    }\n",
              "</style>\n",
              "<table border=\"1\" class=\"dataframe\">\n",
              "  <thead>\n",
              "    <tr style=\"text-align: right;\">\n",
              "      <th></th>\n",
              "      <th>Country</th>\n",
              "      <th>Infant_Deaths</th>\n",
              "      <th>Year</th>\n",
              "    </tr>\n",
              "  </thead>\n",
              "  <tbody>\n",
              "    <tr>\n",
              "      <th>1186</th>\n",
              "      <td>India</td>\n",
              "      <td>910</td>\n",
              "      <td>2015</td>\n",
              "    </tr>\n",
              "    <tr>\n",
              "      <th>1187</th>\n",
              "      <td>India</td>\n",
              "      <td>957</td>\n",
              "      <td>2014</td>\n",
              "    </tr>\n",
              "    <tr>\n",
              "      <th>1188</th>\n",
              "      <td>India</td>\n",
              "      <td>1000</td>\n",
              "      <td>2013</td>\n",
              "    </tr>\n",
              "    <tr>\n",
              "      <th>1189</th>\n",
              "      <td>India</td>\n",
              "      <td>1100</td>\n",
              "      <td>2012</td>\n",
              "    </tr>\n",
              "    <tr>\n",
              "      <th>1190</th>\n",
              "      <td>India</td>\n",
              "      <td>1100</td>\n",
              "      <td>2011</td>\n",
              "    </tr>\n",
              "    <tr>\n",
              "      <th>1191</th>\n",
              "      <td>India</td>\n",
              "      <td>1200</td>\n",
              "      <td>2010</td>\n",
              "    </tr>\n",
              "    <tr>\n",
              "      <th>1192</th>\n",
              "      <td>India</td>\n",
              "      <td>1300</td>\n",
              "      <td>2009</td>\n",
              "    </tr>\n",
              "    <tr>\n",
              "      <th>1193</th>\n",
              "      <td>India</td>\n",
              "      <td>1300</td>\n",
              "      <td>2008</td>\n",
              "    </tr>\n",
              "    <tr>\n",
              "      <th>1194</th>\n",
              "      <td>India</td>\n",
              "      <td>1400</td>\n",
              "      <td>2007</td>\n",
              "    </tr>\n",
              "    <tr>\n",
              "      <th>1195</th>\n",
              "      <td>India</td>\n",
              "      <td>1500</td>\n",
              "      <td>2006</td>\n",
              "    </tr>\n",
              "    <tr>\n",
              "      <th>1196</th>\n",
              "      <td>India</td>\n",
              "      <td>1500</td>\n",
              "      <td>2005</td>\n",
              "    </tr>\n",
              "    <tr>\n",
              "      <th>1197</th>\n",
              "      <td>India</td>\n",
              "      <td>1600</td>\n",
              "      <td>2004</td>\n",
              "    </tr>\n",
              "    <tr>\n",
              "      <th>1198</th>\n",
              "      <td>India</td>\n",
              "      <td>1700</td>\n",
              "      <td>2003</td>\n",
              "    </tr>\n",
              "    <tr>\n",
              "      <th>1199</th>\n",
              "      <td>India</td>\n",
              "      <td>1700</td>\n",
              "      <td>2002</td>\n",
              "    </tr>\n",
              "    <tr>\n",
              "      <th>1200</th>\n",
              "      <td>India</td>\n",
              "      <td>1800</td>\n",
              "      <td>2001</td>\n",
              "    </tr>\n",
              "    <tr>\n",
              "      <th>1201</th>\n",
              "      <td>India</td>\n",
              "      <td>1800</td>\n",
              "      <td>2000</td>\n",
              "    </tr>\n",
              "  </tbody>\n",
              "</table>\n",
              "</div>"
            ],
            "text/plain": [
              "     Country  Infant_Deaths  Year\n",
              "1186   India            910  2015\n",
              "1187   India            957  2014\n",
              "1188   India           1000  2013\n",
              "1189   India           1100  2012\n",
              "1190   India           1100  2011\n",
              "1191   India           1200  2010\n",
              "1192   India           1300  2009\n",
              "1193   India           1300  2008\n",
              "1194   India           1400  2007\n",
              "1195   India           1500  2006\n",
              "1196   India           1500  2005\n",
              "1197   India           1600  2004\n",
              "1198   India           1700  2003\n",
              "1199   India           1700  2002\n",
              "1200   India           1800  2001\n",
              "1201   India           1800  2000"
            ]
          },
          "metadata": {
            "tags": []
          },
          "execution_count": 60
        }
      ]
    },
    {
      "cell_type": "code",
      "metadata": {
        "colab": {
          "base_uri": "https://localhost:8080/",
          "height": 513
        },
        "id": "zWEuIOwdwjzt",
        "outputId": "d98a64e1-3233-4db0-8eff-46e4a89f1028"
      },
      "source": [
        "plt.figure(figsize=(10,8))\n",
        "sns.lineplot(x='Year',y='Infant_Deaths',data=Ind_id)\n",
        "plt.title('Infant Deaths in India during 2000-2015')\n",
        "plt.show()"
      ],
      "execution_count": null,
      "outputs": [
        {
          "output_type": "display_data",
          "data": {
            "image/png": "[encoded data removed]",
            "text/plain": [
              "<Figure size 720x576 with 1 Axes>"
            ]
          },
          "metadata": {
            "tags": [],
            "needs_background": "light"
          }
        }
      ]
    },
    {
      "cell_type": "markdown",
      "metadata": {
        "id": "Kx_MEQCXxJz_"
      },
      "source": [
        "## Insights\n",
        "\n",
        "Infant death was high in India during the year 2000 and 2001 of about 1800.\n",
        "\n",
        "Afterwards there was a decline in the graph and in the coming years, the number decreased."
      ]
    },
    {
      "cell_type": "markdown",
      "metadata": {
        "id": "Zw1R2NogacZv"
      },
      "source": [
        "### 10. How GDP affect the status of a country?"
      ]
    },
    {
      "cell_type": "code",
      "metadata": {
        "colab": {
          "base_uri": "https://localhost:8080/"
        },
        "id": "MIRJRK4sZw4N",
        "outputId": "2d6510a5-9cec-440e-fc1d-0e12b704eaca"
      },
      "source": [
        "# finding mean\n",
        "df.groupby('Status')['GDP'].mean()"
      ],
      "execution_count": null,
      "outputs": [
        {
          "output_type": "execute_result",
          "data": {
            "text/plain": [
              "Status\n",
              "Developed     21920.352299\n",
              "Developing     3213.791472\n",
              "Name: GDP, dtype: float64"
            ]
          },
          "metadata": {
            "tags": []
          },
          "execution_count": 62
        }
      ]
    },
    {
      "cell_type": "code",
      "metadata": {
        "colab": {
          "base_uri": "https://localhost:8080/",
          "height": 295
        },
        "id": "nWaqrijsx7TS",
        "outputId": "fd866007-d13e-48d1-eae4-1c7776a66abb"
      },
      "source": [
        "sns.barplot(x=df.groupby('Status')['Status'].count().index,y=df.groupby('Status')['GDP'].mean(),data=df)\n",
        "plt.title('GDP effect on Status')\n",
        "plt.show()"
      ],
      "execution_count": null,
      "outputs": [
        {
          "output_type": "display_data",
          "data": {
            "image/png": "[encoded data removed]",
            "text/plain": [
              "<Figure size 432x288 with 1 Axes>"
            ]
          },
          "metadata": {
            "tags": [],
            "needs_background": "light"
          }
        }
      ]
    },
    {
      "cell_type": "markdown",
      "metadata": {
        "id": "AodJhY6YyFZp"
      },
      "source": [
        "### Insights\n",
        "\n",
        "Developed countries has higher GDP compared to developing countries."
      ]
    },
    {
      "cell_type": "markdown",
      "metadata": {
        "id": "R6-589AnaepZ"
      },
      "source": [
        "### 11. What can one say about the average Infant deaths in developing and developed countries"
      ]
    },
    {
      "cell_type": "code",
      "metadata": {
        "colab": {
          "base_uri": "https://localhost:8080/"
        },
        "id": "O2i-AkOxyM_w",
        "outputId": "163863c9-0234-4f35-c6c3-8a52818459a9"
      },
      "source": [
        "df.groupby('Status')['Status'].count()"
      ],
      "execution_count": null,
      "outputs": [
        {
          "output_type": "execute_result",
          "data": {
            "text/plain": [
              "Status\n",
              "Developed      416\n",
              "Developing    1822\n",
              "Name: Status, dtype: int64"
            ]
          },
          "metadata": {
            "tags": []
          },
          "execution_count": 113
        }
      ]
    },
    {
      "cell_type": "code",
      "metadata": {
        "colab": {
          "base_uri": "https://localhost:8080/"
        },
        "id": "klJwsC_Myrsw",
        "outputId": "846ca993-a8e0-4f5f-a9dd-5ff9b33d49ac"
      },
      "source": [
        "df.groupby('Status')['Infant_Deaths'].mean()"
      ],
      "execution_count": null,
      "outputs": [
        {
          "output_type": "execute_result",
          "data": {
            "text/plain": [
              "Status\n",
              "Developed      0.692308\n",
              "Developing    41.690450\n",
              "Name: Infant_Deaths, dtype: float64"
            ]
          },
          "metadata": {
            "tags": []
          },
          "execution_count": 114
        }
      ]
    },
    {
      "cell_type": "code",
      "metadata": {
        "colab": {
          "base_uri": "https://localhost:8080/",
          "height": 295
        },
        "id": "DQPvN8zyZw0l",
        "outputId": "f0d82f63-05ed-4e6b-f0a6-2e584895a627"
      },
      "source": [
        "sns.barplot(x=df.groupby('Status')['Status'].count().index,y=df.groupby('Status')['Infant_Deaths'].mean(),data=df)\n",
        "plt.title('Avg Infant deaths and Status')\n",
        "plt.show()"
      ],
      "execution_count": null,
      "outputs": [
        {
          "output_type": "display_data",
          "data": {
            "image/png": "[encoded data removed]",
            "text/plain": [
              "<Figure size 432x288 with 1 Axes>"
            ]
          },
          "metadata": {
            "tags": [],
            "needs_background": "light"
          }
        }
      ]
    },
    {
      "cell_type": "markdown",
      "metadata": {
        "id": "Uhulhl35zARu"
      },
      "source": [
        "## Insights\n",
        "\n",
        "Developing countries on an average have greater number of infant deaths as compared to developing countries."
      ]
    },
    {
      "cell_type": "markdown",
      "metadata": {
        "id": "1fkLuDxcahE9"
      },
      "source": [
        "### 12. What are the rate of schooling in India from 2000-2015?"
      ]
    },
    {
      "cell_type": "code",
      "metadata": {
        "colab": {
          "base_uri": "https://localhost:8080/",
          "height": 544
        },
        "id": "5Gudl91EzLBu",
        "outputId": "1b16f61c-71a6-44a9-bd97-7fcf1800a797"
      },
      "source": [
        "Ind_sch=df[df['Country']=='India'].loc[:,['Country','Schooling','Year']]\n",
        "Ind_sch"
      ],
      "execution_count": null,
      "outputs": [
        {
          "output_type": "execute_result",
          "data": {
            "text/html": [
              "<div>\n",
              "<style scoped>\n",
              "    .dataframe tbody tr th:only-of-type {\n",
              "        vertical-align: middle;\n",
              "    }\n",
              "\n",
              "    .dataframe tbody tr th {\n",
              "        vertical-align: top;\n",
              "    }\n",
              "\n",
              "    .dataframe thead th {\n",
              "        text-align: right;\n",
              "    }\n",
              "</style>\n",
              "<table border=\"1\" class=\"dataframe\">\n",
              "  <thead>\n",
              "    <tr style=\"text-align: right;\">\n",
              "      <th></th>\n",
              "      <th>Country</th>\n",
              "      <th>Schooling</th>\n",
              "      <th>Year</th>\n",
              "    </tr>\n",
              "  </thead>\n",
              "  <tbody>\n",
              "    <tr>\n",
              "      <th>1186</th>\n",
              "      <td>India</td>\n",
              "      <td>11.6</td>\n",
              "      <td>2015</td>\n",
              "    </tr>\n",
              "    <tr>\n",
              "      <th>1187</th>\n",
              "      <td>India</td>\n",
              "      <td>11.6</td>\n",
              "      <td>2014</td>\n",
              "    </tr>\n",
              "    <tr>\n",
              "      <th>1188</th>\n",
              "      <td>India</td>\n",
              "      <td>11.5</td>\n",
              "      <td>2013</td>\n",
              "    </tr>\n",
              "    <tr>\n",
              "      <th>1189</th>\n",
              "      <td>India</td>\n",
              "      <td>11.3</td>\n",
              "      <td>2012</td>\n",
              "    </tr>\n",
              "    <tr>\n",
              "      <th>1190</th>\n",
              "      <td>India</td>\n",
              "      <td>10.8</td>\n",
              "      <td>2011</td>\n",
              "    </tr>\n",
              "    <tr>\n",
              "      <th>1191</th>\n",
              "      <td>India</td>\n",
              "      <td>10.4</td>\n",
              "      <td>2010</td>\n",
              "    </tr>\n",
              "    <tr>\n",
              "      <th>1192</th>\n",
              "      <td>India</td>\n",
              "      <td>10.5</td>\n",
              "      <td>2009</td>\n",
              "    </tr>\n",
              "    <tr>\n",
              "      <th>1193</th>\n",
              "      <td>India</td>\n",
              "      <td>10.2</td>\n",
              "      <td>2008</td>\n",
              "    </tr>\n",
              "    <tr>\n",
              "      <th>1194</th>\n",
              "      <td>India</td>\n",
              "      <td>9.9</td>\n",
              "      <td>2007</td>\n",
              "    </tr>\n",
              "    <tr>\n",
              "      <th>1195</th>\n",
              "      <td>India</td>\n",
              "      <td>9.7</td>\n",
              "      <td>2006</td>\n",
              "    </tr>\n",
              "    <tr>\n",
              "      <th>1196</th>\n",
              "      <td>India</td>\n",
              "      <td>9.4</td>\n",
              "      <td>2005</td>\n",
              "    </tr>\n",
              "    <tr>\n",
              "      <th>1197</th>\n",
              "      <td>India</td>\n",
              "      <td>9.2</td>\n",
              "      <td>2004</td>\n",
              "    </tr>\n",
              "    <tr>\n",
              "      <th>1198</th>\n",
              "      <td>India</td>\n",
              "      <td>8.6</td>\n",
              "      <td>2003</td>\n",
              "    </tr>\n",
              "    <tr>\n",
              "      <th>1199</th>\n",
              "      <td>India</td>\n",
              "      <td>8.4</td>\n",
              "      <td>2002</td>\n",
              "    </tr>\n",
              "    <tr>\n",
              "      <th>1200</th>\n",
              "      <td>India</td>\n",
              "      <td>8.3</td>\n",
              "      <td>2001</td>\n",
              "    </tr>\n",
              "    <tr>\n",
              "      <th>1201</th>\n",
              "      <td>India</td>\n",
              "      <td>8.3</td>\n",
              "      <td>2000</td>\n",
              "    </tr>\n",
              "  </tbody>\n",
              "</table>\n",
              "</div>"
            ],
            "text/plain": [
              "     Country  Schooling  Year\n",
              "1186   India       11.6  2015\n",
              "1187   India       11.6  2014\n",
              "1188   India       11.5  2013\n",
              "1189   India       11.3  2012\n",
              "1190   India       10.8  2011\n",
              "1191   India       10.4  2010\n",
              "1192   India       10.5  2009\n",
              "1193   India       10.2  2008\n",
              "1194   India        9.9  2007\n",
              "1195   India        9.7  2006\n",
              "1196   India        9.4  2005\n",
              "1197   India        9.2  2004\n",
              "1198   India        8.6  2003\n",
              "1199   India        8.4  2002\n",
              "1200   India        8.3  2001\n",
              "1201   India        8.3  2000"
            ]
          },
          "metadata": {
            "tags": []
          },
          "execution_count": 111
        }
      ]
    },
    {
      "cell_type": "code",
      "metadata": {
        "colab": {
          "base_uri": "https://localhost:8080/",
          "height": 513
        },
        "id": "sa-OE3p1zKz9",
        "outputId": "a2383071-d15f-431d-9397-75ba2d06e932"
      },
      "source": [
        "plt.figure(figsize=(12,8))\n",
        "sns.lineplot(x='Year',y='Schooling',data=Ind_sch)\n",
        "plt.title('Education in India from 2000-2015')\n",
        "plt.show()"
      ],
      "execution_count": null,
      "outputs": [
        {
          "output_type": "display_data",
          "data": {
            "image/png": "[encoded data removed]",
            "text/plain": [
              "<Figure size 864x576 with 1 Axes>"
            ]
          },
          "metadata": {
            "tags": [],
            "needs_background": "light"
          }
        }
      ]
    },
    {
      "cell_type": "markdown",
      "metadata": {
        "id": "LxGYG3ng0yRQ"
      },
      "source": [
        "### Insights\n",
        "\n",
        "In India, the number of years of schoolings goes on increasing each year but there was a slight decline in the year 2010 and then it kept on increasing."
      ]
    },
    {
      "cell_type": "markdown",
      "metadata": {
        "id": "U4_kTpbvaidE"
      },
      "source": [
        "### 13. Which country has the highest infant death in the year 2015?"
      ]
    },
    {
      "cell_type": "code",
      "metadata": {
        "colab": {
          "base_uri": "https://localhost:8080/",
          "height": 418
        },
        "id": "Mtcm6wmJ17vH",
        "outputId": "38692885-a43c-4ef1-a8e4-924be4115684"
      },
      "source": [
        "Inf=df[df['Year']==2015].loc[:,['Year','Country','Infant_Deaths']].reset_index()\n",
        "Inf"
      ],
      "execution_count": null,
      "outputs": [
        {
          "output_type": "execute_result",
          "data": {
            "text/html": [
              "<div>\n",
              "<style scoped>\n",
              "    .dataframe tbody tr th:only-of-type {\n",
              "        vertical-align: middle;\n",
              "    }\n",
              "\n",
              "    .dataframe tbody tr th {\n",
              "        vertical-align: top;\n",
              "    }\n",
              "\n",
              "    .dataframe thead th {\n",
              "        text-align: right;\n",
              "    }\n",
              "</style>\n",
              "<table border=\"1\" class=\"dataframe\">\n",
              "  <thead>\n",
              "    <tr style=\"text-align: right;\">\n",
              "      <th></th>\n",
              "      <th>index</th>\n",
              "      <th>Year</th>\n",
              "      <th>Country</th>\n",
              "      <th>Infant_Deaths</th>\n",
              "    </tr>\n",
              "  </thead>\n",
              "  <tbody>\n",
              "    <tr>\n",
              "      <th>0</th>\n",
              "      <td>0</td>\n",
              "      <td>2015</td>\n",
              "      <td>Afghanistan</td>\n",
              "      <td>62</td>\n",
              "    </tr>\n",
              "    <tr>\n",
              "      <th>1</th>\n",
              "      <td>16</td>\n",
              "      <td>2015</td>\n",
              "      <td>Albania</td>\n",
              "      <td>0</td>\n",
              "    </tr>\n",
              "    <tr>\n",
              "      <th>2</th>\n",
              "      <td>32</td>\n",
              "      <td>2015</td>\n",
              "      <td>Algeria</td>\n",
              "      <td>21</td>\n",
              "    </tr>\n",
              "    <tr>\n",
              "      <th>3</th>\n",
              "      <td>48</td>\n",
              "      <td>2015</td>\n",
              "      <td>Angola</td>\n",
              "      <td>66</td>\n",
              "    </tr>\n",
              "    <tr>\n",
              "      <th>4</th>\n",
              "      <td>80</td>\n",
              "      <td>2015</td>\n",
              "      <td>Argentina</td>\n",
              "      <td>8</td>\n",
              "    </tr>\n",
              "    <tr>\n",
              "      <th>...</th>\n",
              "      <td>...</td>\n",
              "      <td>...</td>\n",
              "      <td>...</td>\n",
              "      <td>...</td>\n",
              "    </tr>\n",
              "    <tr>\n",
              "      <th>133</th>\n",
              "      <td>2810</td>\n",
              "      <td>2015</td>\n",
              "      <td>Uruguay</td>\n",
              "      <td>0</td>\n",
              "    </tr>\n",
              "    <tr>\n",
              "      <th>134</th>\n",
              "      <td>2826</td>\n",
              "      <td>2015</td>\n",
              "      <td>Uzbekistan</td>\n",
              "      <td>15</td>\n",
              "    </tr>\n",
              "    <tr>\n",
              "      <th>135</th>\n",
              "      <td>2842</td>\n",
              "      <td>2015</td>\n",
              "      <td>Vanuatu</td>\n",
              "      <td>0</td>\n",
              "    </tr>\n",
              "    <tr>\n",
              "      <th>136</th>\n",
              "      <td>2906</td>\n",
              "      <td>2015</td>\n",
              "      <td>Zambia</td>\n",
              "      <td>27</td>\n",
              "    </tr>\n",
              "    <tr>\n",
              "      <th>137</th>\n",
              "      <td>2922</td>\n",
              "      <td>2015</td>\n",
              "      <td>Zimbabwe</td>\n",
              "      <td>22</td>\n",
              "    </tr>\n",
              "  </tbody>\n",
              "</table>\n",
              "<p>138 rows × 4 columns</p>\n",
              "</div>"
            ],
            "text/plain": [
              "     index  Year      Country  Infant_Deaths\n",
              "0        0  2015  Afghanistan             62\n",
              "1       16  2015      Albania              0\n",
              "2       32  2015      Algeria             21\n",
              "3       48  2015       Angola             66\n",
              "4       80  2015    Argentina              8\n",
              "..     ...   ...          ...            ...\n",
              "133   2810  2015      Uruguay              0\n",
              "134   2826  2015   Uzbekistan             15\n",
              "135   2842  2015      Vanuatu              0\n",
              "136   2906  2015       Zambia             27\n",
              "137   2922  2015     Zimbabwe             22\n",
              "\n",
              "[138 rows x 4 columns]"
            ]
          },
          "metadata": {
            "tags": []
          },
          "execution_count": 100
        }
      ]
    },
    {
      "cell_type": "code",
      "metadata": {
        "colab": {
          "base_uri": "https://localhost:8080/"
        },
        "id": "1XEuSY4d17mF",
        "outputId": "0e86b675-2da2-4eb6-a68f-daebba948e12"
      },
      "source": [
        "\n",
        "Inf.Infant_Deaths.idxmax()"
      ],
      "execution_count": null,
      "outputs": [
        {
          "output_type": "execute_result",
          "data": {
            "text/plain": [
              "58"
            ]
          },
          "metadata": {
            "tags": []
          },
          "execution_count": 101
        }
      ]
    },
    {
      "cell_type": "code",
      "metadata": {
        "colab": {
          "base_uri": "https://localhost:8080/"
        },
        "id": "mudk8DAL17eG",
        "outputId": "640383eb-1f6e-4234-d9fa-c6831250a7d3"
      },
      "source": [
        "# country with highest infant death in the year 2015\n",
        "Inf.iloc[58]"
      ],
      "execution_count": null,
      "outputs": [
        {
          "output_type": "execute_result",
          "data": {
            "text/plain": [
              "index             1186\n",
              "Year              2015\n",
              "Country          India\n",
              "Infant_Deaths      910\n",
              "Name: 58, dtype: object"
            ]
          },
          "metadata": {
            "tags": []
          },
          "execution_count": 102
        }
      ]
    },
    {
      "cell_type": "code",
      "metadata": {
        "colab": {
          "base_uri": "https://localhost:8080/"
        },
        "id": "qW_hDgHf2ETV",
        "outputId": "a978c20f-fd3b-41c4-f6a9-48eaeac13322"
      },
      "source": [
        "Inf.Infant_Deaths.min()"
      ],
      "execution_count": null,
      "outputs": [
        {
          "output_type": "execute_result",
          "data": {
            "text/plain": [
              "0"
            ]
          },
          "metadata": {
            "tags": []
          },
          "execution_count": 103
        }
      ]
    },
    {
      "cell_type": "code",
      "metadata": {
        "colab": {
          "base_uri": "https://localhost:8080/",
          "height": 1000
        },
        "id": "SBQjkvhr2EHX",
        "outputId": "21585535-72d7-4cd9-9171-7151cd041f2b"
      },
      "source": [
        "# columns with infant death = 0\n",
        "Inf[Inf['Infant_Deaths']==0]\n"
      ],
      "execution_count": null,
      "outputs": [
        {
          "output_type": "execute_result",
          "data": {
            "text/html": [
              "<div>\n",
              "<style scoped>\n",
              "    .dataframe tbody tr th:only-of-type {\n",
              "        vertical-align: middle;\n",
              "    }\n",
              "\n",
              "    .dataframe tbody tr th {\n",
              "        vertical-align: top;\n",
              "    }\n",
              "\n",
              "    .dataframe thead th {\n",
              "        text-align: right;\n",
              "    }\n",
              "</style>\n",
              "<table border=\"1\" class=\"dataframe\">\n",
              "  <thead>\n",
              "    <tr style=\"text-align: right;\">\n",
              "      <th></th>\n",
              "      <th>index</th>\n",
              "      <th>Year</th>\n",
              "      <th>Country</th>\n",
              "      <th>Infant_Deaths</th>\n",
              "    </tr>\n",
              "  </thead>\n",
              "  <tbody>\n",
              "    <tr>\n",
              "      <th>1</th>\n",
              "      <td>16</td>\n",
              "      <td>2015</td>\n",
              "      <td>Albania</td>\n",
              "      <td>0</td>\n",
              "    </tr>\n",
              "    <tr>\n",
              "      <th>7</th>\n",
              "      <td>128</td>\n",
              "      <td>2015</td>\n",
              "      <td>Austria</td>\n",
              "      <td>0</td>\n",
              "    </tr>\n",
              "    <tr>\n",
              "      <th>10</th>\n",
              "      <td>224</td>\n",
              "      <td>2015</td>\n",
              "      <td>Belarus</td>\n",
              "      <td>0</td>\n",
              "    </tr>\n",
              "    <tr>\n",
              "      <th>11</th>\n",
              "      <td>240</td>\n",
              "      <td>2015</td>\n",
              "      <td>Belgium</td>\n",
              "      <td>0</td>\n",
              "    </tr>\n",
              "    <tr>\n",
              "      <th>12</th>\n",
              "      <td>256</td>\n",
              "      <td>2015</td>\n",
              "      <td>Belize</td>\n",
              "      <td>0</td>\n",
              "    </tr>\n",
              "    <tr>\n",
              "      <th>14</th>\n",
              "      <td>288</td>\n",
              "      <td>2015</td>\n",
              "      <td>Bhutan</td>\n",
              "      <td>0</td>\n",
              "    </tr>\n",
              "    <tr>\n",
              "      <th>15</th>\n",
              "      <td>320</td>\n",
              "      <td>2015</td>\n",
              "      <td>Bosnia and Herzegovina</td>\n",
              "      <td>0</td>\n",
              "    </tr>\n",
              "    <tr>\n",
              "      <th>18</th>\n",
              "      <td>384</td>\n",
              "      <td>2015</td>\n",
              "      <td>Bulgaria</td>\n",
              "      <td>0</td>\n",
              "    </tr>\n",
              "    <tr>\n",
              "      <th>21</th>\n",
              "      <td>448</td>\n",
              "      <td>2015</td>\n",
              "      <td>Cabo Verde</td>\n",
              "      <td>0</td>\n",
              "    </tr>\n",
              "    <tr>\n",
              "      <th>32</th>\n",
              "      <td>641</td>\n",
              "      <td>2015</td>\n",
              "      <td>Croatia</td>\n",
              "      <td>0</td>\n",
              "    </tr>\n",
              "    <tr>\n",
              "      <th>33</th>\n",
              "      <td>673</td>\n",
              "      <td>2015</td>\n",
              "      <td>Cyprus</td>\n",
              "      <td>0</td>\n",
              "    </tr>\n",
              "    <tr>\n",
              "      <th>34</th>\n",
              "      <td>737</td>\n",
              "      <td>2015</td>\n",
              "      <td>Denmark</td>\n",
              "      <td>0</td>\n",
              "    </tr>\n",
              "    <tr>\n",
              "      <th>40</th>\n",
              "      <td>866</td>\n",
              "      <td>2015</td>\n",
              "      <td>Estonia</td>\n",
              "      <td>0</td>\n",
              "    </tr>\n",
              "    <tr>\n",
              "      <th>42</th>\n",
              "      <td>898</td>\n",
              "      <td>2015</td>\n",
              "      <td>Fiji</td>\n",
              "      <td>0</td>\n",
              "    </tr>\n",
              "    <tr>\n",
              "      <th>43</th>\n",
              "      <td>914</td>\n",
              "      <td>2015</td>\n",
              "      <td>Finland</td>\n",
              "      <td>0</td>\n",
              "    </tr>\n",
              "    <tr>\n",
              "      <th>49</th>\n",
              "      <td>1026</td>\n",
              "      <td>2015</td>\n",
              "      <td>Greece</td>\n",
              "      <td>0</td>\n",
              "    </tr>\n",
              "    <tr>\n",
              "      <th>53</th>\n",
              "      <td>1106</td>\n",
              "      <td>2015</td>\n",
              "      <td>Guyana</td>\n",
              "      <td>0</td>\n",
              "    </tr>\n",
              "    <tr>\n",
              "      <th>56</th>\n",
              "      <td>1154</td>\n",
              "      <td>2015</td>\n",
              "      <td>Hungary</td>\n",
              "      <td>0</td>\n",
              "    </tr>\n",
              "    <tr>\n",
              "      <th>57</th>\n",
              "      <td>1170</td>\n",
              "      <td>2015</td>\n",
              "      <td>Iceland</td>\n",
              "      <td>0</td>\n",
              "    </tr>\n",
              "    <tr>\n",
              "      <th>61</th>\n",
              "      <td>1250</td>\n",
              "      <td>2015</td>\n",
              "      <td>Ireland</td>\n",
              "      <td>0</td>\n",
              "    </tr>\n",
              "    <tr>\n",
              "      <th>62</th>\n",
              "      <td>1266</td>\n",
              "      <td>2015</td>\n",
              "      <td>Israel</td>\n",
              "      <td>0</td>\n",
              "    </tr>\n",
              "    <tr>\n",
              "      <th>69</th>\n",
              "      <td>1378</td>\n",
              "      <td>2015</td>\n",
              "      <td>Kiribati</td>\n",
              "      <td>0</td>\n",
              "    </tr>\n",
              "    <tr>\n",
              "      <th>70</th>\n",
              "      <td>1442</td>\n",
              "      <td>2015</td>\n",
              "      <td>Latvia</td>\n",
              "      <td>0</td>\n",
              "    </tr>\n",
              "    <tr>\n",
              "      <th>74</th>\n",
              "      <td>1522</td>\n",
              "      <td>2015</td>\n",
              "      <td>Lithuania</td>\n",
              "      <td>0</td>\n",
              "    </tr>\n",
              "    <tr>\n",
              "      <th>75</th>\n",
              "      <td>1538</td>\n",
              "      <td>2015</td>\n",
              "      <td>Luxembourg</td>\n",
              "      <td>0</td>\n",
              "    </tr>\n",
              "    <tr>\n",
              "      <th>79</th>\n",
              "      <td>1602</td>\n",
              "      <td>2015</td>\n",
              "      <td>Maldives</td>\n",
              "      <td>0</td>\n",
              "    </tr>\n",
              "    <tr>\n",
              "      <th>81</th>\n",
              "      <td>1634</td>\n",
              "      <td>2015</td>\n",
              "      <td>Malta</td>\n",
              "      <td>0</td>\n",
              "    </tr>\n",
              "    <tr>\n",
              "      <th>83</th>\n",
              "      <td>1667</td>\n",
              "      <td>2015</td>\n",
              "      <td>Mauritius</td>\n",
              "      <td>0</td>\n",
              "    </tr>\n",
              "    <tr>\n",
              "      <th>86</th>\n",
              "      <td>1732</td>\n",
              "      <td>2015</td>\n",
              "      <td>Montenegro</td>\n",
              "      <td>0</td>\n",
              "    </tr>\n",
              "    <tr>\n",
              "      <th>96</th>\n",
              "      <td>1910</td>\n",
              "      <td>2015</td>\n",
              "      <td>Norway</td>\n",
              "      <td>0</td>\n",
              "    </tr>\n",
              "    <tr>\n",
              "      <th>103</th>\n",
              "      <td>2055</td>\n",
              "      <td>2015</td>\n",
              "      <td>Portugal</td>\n",
              "      <td>0</td>\n",
              "    </tr>\n",
              "    <tr>\n",
              "      <th>107</th>\n",
              "      <td>2200</td>\n",
              "      <td>2015</td>\n",
              "      <td>Samoa</td>\n",
              "      <td>0</td>\n",
              "    </tr>\n",
              "    <tr>\n",
              "      <th>108</th>\n",
              "      <td>2217</td>\n",
              "      <td>2015</td>\n",
              "      <td>Sao Tome and Principe</td>\n",
              "      <td>0</td>\n",
              "    </tr>\n",
              "    <tr>\n",
              "      <th>111</th>\n",
              "      <td>2281</td>\n",
              "      <td>2015</td>\n",
              "      <td>Seychelles</td>\n",
              "      <td>0</td>\n",
              "    </tr>\n",
              "    <tr>\n",
              "      <th>113</th>\n",
              "      <td>2345</td>\n",
              "      <td>2015</td>\n",
              "      <td>Slovenia</td>\n",
              "      <td>0</td>\n",
              "    </tr>\n",
              "    <tr>\n",
              "      <th>114</th>\n",
              "      <td>2361</td>\n",
              "      <td>2015</td>\n",
              "      <td>Solomon Islands</td>\n",
              "      <td>0</td>\n",
              "    </tr>\n",
              "    <tr>\n",
              "      <th>118</th>\n",
              "      <td>2473</td>\n",
              "      <td>2015</td>\n",
              "      <td>Suriname</td>\n",
              "      <td>0</td>\n",
              "    </tr>\n",
              "    <tr>\n",
              "      <th>120</th>\n",
              "      <td>2505</td>\n",
              "      <td>2015</td>\n",
              "      <td>Sweden</td>\n",
              "      <td>0</td>\n",
              "    </tr>\n",
              "    <tr>\n",
              "      <th>121</th>\n",
              "      <td>2521</td>\n",
              "      <td>2015</td>\n",
              "      <td>Switzerland</td>\n",
              "      <td>0</td>\n",
              "    </tr>\n",
              "    <tr>\n",
              "      <th>126</th>\n",
              "      <td>2633</td>\n",
              "      <td>2015</td>\n",
              "      <td>Tonga</td>\n",
              "      <td>0</td>\n",
              "    </tr>\n",
              "    <tr>\n",
              "      <th>127</th>\n",
              "      <td>2649</td>\n",
              "      <td>2015</td>\n",
              "      <td>Trinidad and Tobago</td>\n",
              "      <td>0</td>\n",
              "    </tr>\n",
              "    <tr>\n",
              "      <th>133</th>\n",
              "      <td>2810</td>\n",
              "      <td>2015</td>\n",
              "      <td>Uruguay</td>\n",
              "      <td>0</td>\n",
              "    </tr>\n",
              "    <tr>\n",
              "      <th>135</th>\n",
              "      <td>2842</td>\n",
              "      <td>2015</td>\n",
              "      <td>Vanuatu</td>\n",
              "      <td>0</td>\n",
              "    </tr>\n",
              "  </tbody>\n",
              "</table>\n",
              "</div>"
            ],
            "text/plain": [
              "     index  Year                 Country  Infant_Deaths\n",
              "1       16  2015                 Albania              0\n",
              "7      128  2015                 Austria              0\n",
              "10     224  2015                 Belarus              0\n",
              "11     240  2015                 Belgium              0\n",
              "12     256  2015                  Belize              0\n",
              "14     288  2015                  Bhutan              0\n",
              "15     320  2015  Bosnia and Herzegovina              0\n",
              "18     384  2015                Bulgaria              0\n",
              "21     448  2015              Cabo Verde              0\n",
              "32     641  2015                 Croatia              0\n",
              "33     673  2015                  Cyprus              0\n",
              "34     737  2015                 Denmark              0\n",
              "40     866  2015                 Estonia              0\n",
              "42     898  2015                    Fiji              0\n",
              "43     914  2015                 Finland              0\n",
              "49    1026  2015                  Greece              0\n",
              "53    1106  2015                  Guyana              0\n",
              "56    1154  2015                 Hungary              0\n",
              "57    1170  2015                 Iceland              0\n",
              "61    1250  2015                 Ireland              0\n",
              "62    1266  2015                  Israel              0\n",
              "69    1378  2015                Kiribati              0\n",
              "70    1442  2015                  Latvia              0\n",
              "74    1522  2015               Lithuania              0\n",
              "75    1538  2015              Luxembourg              0\n",
              "79    1602  2015                Maldives              0\n",
              "81    1634  2015                   Malta              0\n",
              "83    1667  2015               Mauritius              0\n",
              "86    1732  2015              Montenegro              0\n",
              "96    1910  2015                  Norway              0\n",
              "103   2055  2015                Portugal              0\n",
              "107   2200  2015                   Samoa              0\n",
              "108   2217  2015   Sao Tome and Principe              0\n",
              "111   2281  2015              Seychelles              0\n",
              "113   2345  2015                Slovenia              0\n",
              "114   2361  2015         Solomon Islands              0\n",
              "118   2473  2015                Suriname              0\n",
              "120   2505  2015                  Sweden              0\n",
              "121   2521  2015             Switzerland              0\n",
              "126   2633  2015                   Tonga              0\n",
              "127   2649  2015     Trinidad and Tobago              0\n",
              "133   2810  2015                 Uruguay              0\n",
              "135   2842  2015                 Vanuatu              0"
            ]
          },
          "metadata": {
            "tags": []
          },
          "execution_count": 104
        }
      ]
    },
    {
      "cell_type": "code",
      "metadata": {
        "colab": {
          "base_uri": "https://localhost:8080/"
        },
        "id": "YzSU1Cny17X3",
        "outputId": "dff2ef59-a621-443d-f6b1-cefe1e2eafd4"
      },
      "source": [
        "# Finding total number of countries with infant death = 0\n",
        "Inf[Inf['Infant_Deaths']==0].shape"
      ],
      "execution_count": null,
      "outputs": [
        {
          "output_type": "execute_result",
          "data": {
            "text/plain": [
              "(43, 4)"
            ]
          },
          "metadata": {
            "tags": []
          },
          "execution_count": 105
        }
      ]
    },
    {
      "cell_type": "code",
      "metadata": {
        "id": "AZmzeBNsZwpy"
      },
      "source": [
        "plt.figure(figsize=(80,78))\n",
        "sns.barplot(y='Country',x='Infant_Deaths',data=Inf)\n",
        "plt.title('Infant Deaths in various Countries',{'fontsize':50})\n",
        "plt.xticks(rotation=90,fontsize=50)\n",
        "plt.yticks(fontsize=30)\n",
        "plt.show()"
      ],
      "execution_count": null,
      "outputs": []
    },
    {
      "cell_type": "markdown",
      "metadata": {
        "id": "58jPD9vM3ioY"
      },
      "source": [
        "### Insights\n",
        "\n",
        "In the year 2015, the country with highest Infant deaths was India with a total of 910 deaths. Following India was Nigeria and Pakisthan.\n",
        "\n",
        "There were 43 countries having 0 infant mortality rate. Some of them were Austria, Belarus, Hungary, Fiji, Sweden, Switzerland etc "
      ]
    },
    {
      "cell_type": "markdown",
      "metadata": {
        "id": "Ayn16eB2ajzR"
      },
      "source": [
        "### 14. Which developing country has the least immunization and which developed country has the highest immunization?"
      ]
    },
    {
      "cell_type": "code",
      "metadata": {
        "colab": {
          "base_uri": "https://localhost:8080/",
          "height": 473
        },
        "id": "Jq84YgLA3mRU",
        "outputId": "a46fd3e5-f1e2-4771-b6c4-6717dc3595ad"
      },
      "source": [
        "imm=df.groupby(['Status','Country'])['Diphtheria','Polio','HepatitisB'].mean().reset_index()\n",
        "imm"
      ],
      "execution_count": null,
      "outputs": [
        {
          "output_type": "stream",
          "text": [
            "/usr/local/lib/python3.7/dist-packages/ipykernel_launcher.py:1: FutureWarning: Indexing with multiple keys (implicitly converted to a tuple of keys) will be deprecated, use a list instead.\n",
            "  \"\"\"Entry point for launching an IPython kernel.\n"
          ],
          "name": "stderr"
        },
        {
          "output_type": "execute_result",
          "data": {
            "text/html": [
              "<div>\n",
              "<style scoped>\n",
              "    .dataframe tbody tr th:only-of-type {\n",
              "        vertical-align: middle;\n",
              "    }\n",
              "\n",
              "    .dataframe tbody tr th {\n",
              "        vertical-align: top;\n",
              "    }\n",
              "\n",
              "    .dataframe thead th {\n",
              "        text-align: right;\n",
              "    }\n",
              "</style>\n",
              "<table border=\"1\" class=\"dataframe\">\n",
              "  <thead>\n",
              "    <tr style=\"text-align: right;\">\n",
              "      <th></th>\n",
              "      <th>Status</th>\n",
              "      <th>Country</th>\n",
              "      <th>Diphtheria</th>\n",
              "      <th>Polio</th>\n",
              "      <th>HepatitisB</th>\n",
              "    </tr>\n",
              "  </thead>\n",
              "  <tbody>\n",
              "    <tr>\n",
              "      <th>0</th>\n",
              "      <td>Developed</td>\n",
              "      <td>Australia</td>\n",
              "      <td>86.8750</td>\n",
              "      <td>86.7500</td>\n",
              "      <td>93.4375</td>\n",
              "    </tr>\n",
              "    <tr>\n",
              "      <th>1</th>\n",
              "      <td>Developed</td>\n",
              "      <td>Austria</td>\n",
              "      <td>86.7500</td>\n",
              "      <td>86.0000</td>\n",
              "      <td>81.0625</td>\n",
              "    </tr>\n",
              "    <tr>\n",
              "      <th>2</th>\n",
              "      <td>Developed</td>\n",
              "      <td>Belgium</td>\n",
              "      <td>97.3125</td>\n",
              "      <td>97.7500</td>\n",
              "      <td>74.5000</td>\n",
              "    </tr>\n",
              "    <tr>\n",
              "      <th>3</th>\n",
              "      <td>Developed</td>\n",
              "      <td>Bulgaria</td>\n",
              "      <td>94.0000</td>\n",
              "      <td>94.2500</td>\n",
              "      <td>94.5000</td>\n",
              "    </tr>\n",
              "    <tr>\n",
              "      <th>4</th>\n",
              "      <td>Developed</td>\n",
              "      <td>Croatia</td>\n",
              "      <td>95.3750</td>\n",
              "      <td>95.5000</td>\n",
              "      <td>95.6875</td>\n",
              "    </tr>\n",
              "    <tr>\n",
              "      <th>...</th>\n",
              "      <td>...</td>\n",
              "      <td>...</td>\n",
              "      <td>...</td>\n",
              "      <td>...</td>\n",
              "      <td>...</td>\n",
              "    </tr>\n",
              "    <tr>\n",
              "      <th>136</th>\n",
              "      <td>Developing</td>\n",
              "      <td>Uruguay</td>\n",
              "      <td>89.1250</td>\n",
              "      <td>94.2500</td>\n",
              "      <td>94.3125</td>\n",
              "    </tr>\n",
              "    <tr>\n",
              "      <th>137</th>\n",
              "      <td>Developing</td>\n",
              "      <td>Uzbekistan</td>\n",
              "      <td>98.4375</td>\n",
              "      <td>98.5625</td>\n",
              "      <td>91.4375</td>\n",
              "    </tr>\n",
              "    <tr>\n",
              "      <th>138</th>\n",
              "      <td>Developing</td>\n",
              "      <td>Vanuatu</td>\n",
              "      <td>59.0625</td>\n",
              "      <td>66.1875</td>\n",
              "      <td>56.1250</td>\n",
              "    </tr>\n",
              "    <tr>\n",
              "      <th>139</th>\n",
              "      <td>Developing</td>\n",
              "      <td>Zambia</td>\n",
              "      <td>74.2500</td>\n",
              "      <td>64.3750</td>\n",
              "      <td>73.6250</td>\n",
              "    </tr>\n",
              "    <tr>\n",
              "      <th>140</th>\n",
              "      <td>Developing</td>\n",
              "      <td>Zimbabwe</td>\n",
              "      <td>75.1875</td>\n",
              "      <td>75.6250</td>\n",
              "      <td>70.5625</td>\n",
              "    </tr>\n",
              "  </tbody>\n",
              "</table>\n",
              "<p>141 rows × 5 columns</p>\n",
              "</div>"
            ],
            "text/plain": [
              "         Status     Country  Diphtheria    Polio  HepatitisB\n",
              "0     Developed   Australia     86.8750  86.7500     93.4375\n",
              "1     Developed     Austria     86.7500  86.0000     81.0625\n",
              "2     Developed     Belgium     97.3125  97.7500     74.5000\n",
              "3     Developed    Bulgaria     94.0000  94.2500     94.5000\n",
              "4     Developed     Croatia     95.3750  95.5000     95.6875\n",
              "..          ...         ...         ...      ...         ...\n",
              "136  Developing     Uruguay     89.1250  94.2500     94.3125\n",
              "137  Developing  Uzbekistan     98.4375  98.5625     91.4375\n",
              "138  Developing     Vanuatu     59.0625  66.1875     56.1250\n",
              "139  Developing      Zambia     74.2500  64.3750     73.6250\n",
              "140  Developing    Zimbabwe     75.1875  75.6250     70.5625\n",
              "\n",
              "[141 rows x 5 columns]"
            ]
          },
          "metadata": {
            "tags": []
          },
          "execution_count": 85
        }
      ]
    },
    {
      "cell_type": "code",
      "metadata": {
        "colab": {
          "base_uri": "https://localhost:8080/"
        },
        "id": "uCDDyL1t3l4f",
        "outputId": "dde812e8-c1f4-4c14-b4f5-1c7f8a0a99e9"
      },
      "source": [
        "#max immunization for polio\n",
        "imm[imm['Status']=='Developed'].Polio.idxmax()  # Hungary"
      ],
      "execution_count": null,
      "outputs": [
        {
          "output_type": "execute_result",
          "data": {
            "text/plain": [
              "8"
            ]
          },
          "metadata": {
            "tags": []
          },
          "execution_count": 86
        }
      ]
    },
    {
      "cell_type": "code",
      "metadata": {
        "colab": {
          "base_uri": "https://localhost:8080/"
        },
        "id": "gGuLQ3qaZwmL",
        "outputId": "8c648086-e6e0-4df1-a67a-6952dcbf72f9"
      },
      "source": [
        "imm.iloc[8]"
      ],
      "execution_count": null,
      "outputs": [
        {
          "output_type": "execute_result",
          "data": {
            "text/plain": [
              "Status        Developed\n",
              "Country         Hungary\n",
              "Diphtheria           99\n",
              "Polio           98.9375\n",
              "HepatitisB           93\n",
              "Name: 8, dtype: object"
            ]
          },
          "metadata": {
            "tags": []
          },
          "execution_count": 87
        }
      ]
    },
    {
      "cell_type": "code",
      "metadata": {
        "colab": {
          "base_uri": "https://localhost:8080/"
        },
        "id": "bC1zeTj14Q8f",
        "outputId": "f929405c-ee05-4895-8d2b-273de7a89f81"
      },
      "source": [
        "#max immunization for diphtheria\n",
        "imm[imm['Status']=='Developed'].Diphtheria.idxmax()  # Hungary"
      ],
      "execution_count": null,
      "outputs": [
        {
          "output_type": "execute_result",
          "data": {
            "text/plain": [
              "8"
            ]
          },
          "metadata": {
            "tags": []
          },
          "execution_count": 88
        }
      ]
    },
    {
      "cell_type": "code",
      "metadata": {
        "colab": {
          "base_uri": "https://localhost:8080/"
        },
        "id": "s3l7Qkgj4Q5D",
        "outputId": "210affb2-060f-48ba-a2e2-4f7fe5e0ffa4"
      },
      "source": [
        "#max immunization for HepatitisB\n",
        "imm[imm['Status']=='Developed'].HepatitisB.idxmax()  # Poland"
      ],
      "execution_count": null,
      "outputs": [
        {
          "output_type": "execute_result",
          "data": {
            "text/plain": [
              "19"
            ]
          },
          "metadata": {
            "tags": []
          },
          "execution_count": 89
        }
      ]
    },
    {
      "cell_type": "code",
      "metadata": {
        "colab": {
          "base_uri": "https://localhost:8080/"
        },
        "id": "BAG9_1Rm4Q2r",
        "outputId": "31120c3e-86e4-4fab-ebab-2b6cd186395e"
      },
      "source": [
        "imm.iloc[19]"
      ],
      "execution_count": null,
      "outputs": [
        {
          "output_type": "execute_result",
          "data": {
            "text/plain": [
              "Status        Developed\n",
              "Country          Poland\n",
              "Diphtheria        98.75\n",
              "Polio             96.75\n",
              "HepatitisB       97.375\n",
              "Name: 19, dtype: object"
            ]
          },
          "metadata": {
            "tags": []
          },
          "execution_count": 90
        }
      ]
    },
    {
      "cell_type": "code",
      "metadata": {
        "colab": {
          "base_uri": "https://localhost:8080/"
        },
        "id": "fj6NiQHR4Qzb",
        "outputId": "8d2e54cd-41d6-4f73-8d10-df50e1ab1225"
      },
      "source": [
        "# min for polio\n",
        "imm[imm['Status']=='Developing'].Polio.idxmin()  # Chad"
      ],
      "execution_count": null,
      "outputs": [
        {
          "output_type": "execute_result",
          "data": {
            "text/plain": [
              "48"
            ]
          },
          "metadata": {
            "tags": []
          },
          "execution_count": 91
        }
      ]
    },
    {
      "cell_type": "code",
      "metadata": {
        "colab": {
          "base_uri": "https://localhost:8080/"
        },
        "id": "7Rzorq5W4QxV",
        "outputId": "ed6e3012-aaa9-49d2-b172-1a300af6bbb8"
      },
      "source": [
        "imm.iloc[48]"
      ],
      "execution_count": null,
      "outputs": [
        {
          "output_type": "execute_result",
          "data": {
            "text/plain": [
              "Status        Developing\n",
              "Country             Chad\n",
              "Diphtheria       26.8125\n",
              "Polio             32.875\n",
              "HepatitisB       23.4375\n",
              "Name: 48, dtype: object"
            ]
          },
          "metadata": {
            "tags": []
          },
          "execution_count": 92
        }
      ]
    },
    {
      "cell_type": "code",
      "metadata": {
        "colab": {
          "base_uri": "https://localhost:8080/"
        },
        "id": "VUElbHL74iIq",
        "outputId": "4bc88a3c-8b53-4591-9455-9eaf53e7f767"
      },
      "source": [
        "# min for Diphtheria\n",
        "imm[imm['Status']=='Developing'].Diphtheria.idxmin()  # Chad"
      ],
      "execution_count": null,
      "outputs": [
        {
          "output_type": "execute_result",
          "data": {
            "text/plain": [
              "48"
            ]
          },
          "metadata": {
            "tags": []
          },
          "execution_count": 93
        }
      ]
    },
    {
      "cell_type": "code",
      "metadata": {
        "colab": {
          "base_uri": "https://localhost:8080/"
        },
        "id": "h4CoUB4y4iFP",
        "outputId": "f1a673c8-8b63-41e1-e218-1104be31cbc0"
      },
      "source": [
        "# min for HepatitisB                                  # Guinea\n",
        "imm[imm['Status']=='Developing'].HepatitisB.idxmin()"
      ],
      "execution_count": null,
      "outputs": [
        {
          "output_type": "execute_result",
          "data": {
            "text/plain": [
              "58"
            ]
          },
          "metadata": {
            "tags": []
          },
          "execution_count": 94
        }
      ]
    },
    {
      "cell_type": "code",
      "metadata": {
        "colab": {
          "base_uri": "https://localhost:8080/"
        },
        "id": "NMGDfAKq4iCV",
        "outputId": "b32acd86-b719-402e-969b-6d913efe01f3"
      },
      "source": [
        "imm.iloc[58]"
      ],
      "execution_count": null,
      "outputs": [
        {
          "output_type": "execute_result",
          "data": {
            "text/plain": [
              "Status               Developing\n",
              "Country       Equatorial Guinea\n",
              "Diphtheria              29.9375\n",
              "Polio                    36.875\n",
              "HepatitisB                2.875\n",
              "Name: 58, dtype: object"
            ]
          },
          "metadata": {
            "tags": []
          },
          "execution_count": 95
        }
      ]
    },
    {
      "cell_type": "markdown",
      "metadata": {
        "id": "4RiMvotg4zJ9"
      },
      "source": [
        "### Insights\n",
        "\n",
        "Among the developed countries, Hungary has the highest immunization for polio and Diphtheria whereas Poland has highest HepatitisB immunization\n",
        "\n",
        "Among the developing countries, Chad has very low immunization for Polio and Diphtheria and Guinea has the least HepatitisB immunization coverage."
      ]
    },
    {
      "cell_type": "markdown",
      "metadata": {
        "id": "h0Bfp7egalDy"
      },
      "source": [
        "### 15. What are the percentage of immunization coverage in India from 2000-2015?"
      ]
    },
    {
      "cell_type": "code",
      "metadata": {
        "colab": {
          "base_uri": "https://localhost:8080/",
          "height": 537
        },
        "id": "b-_N62KbZwjw",
        "outputId": "606bbe51-875b-4a6f-a2d0-f9bbf3244031"
      },
      "source": [
        "# polio\n",
        "plt.figure(figsize=(12,8))\n",
        "plt.pie(df[df['Country']=='India'].groupby('Year')['Polio','HepatitisB','Diphtheria'].mean().reset_index().Polio,labels=df[df['Country']=='India'].groupby('Year')['Polio','HepatitisB','Diphtheria'].mean().reset_index().Year,autopct='%1.2f%%')\n",
        "plt.title('Polio immunization in India from 2000-2015')\n",
        "plt.show()"
      ],
      "execution_count": null,
      "outputs": [
        {
          "output_type": "stream",
          "text": [
            "/usr/local/lib/python3.7/dist-packages/ipykernel_launcher.py:2: FutureWarning: Indexing with multiple keys (implicitly converted to a tuple of keys) will be deprecated, use a list instead.\n",
            "  \n"
          ],
          "name": "stderr"
        },
        {
          "output_type": "display_data",
          "data": {
            "image/png": "[encoded data removed]",
            "text/plain": [
              "<Figure size 864x576 with 1 Axes>"
            ]
          },
          "metadata": {
            "tags": []
          }
        }
      ]
    },
    {
      "cell_type": "code",
      "metadata": {
        "colab": {
          "base_uri": "https://localhost:8080/",
          "height": 537
        },
        "id": "2TYfMZjAZwhh",
        "outputId": "d09aa295-b7c9-45b0-9e8a-82db81ec902d"
      },
      "source": [
        "# Diphtheria\n",
        "plt.figure(figsize=(12,8))\n",
        "plt.pie(df[df['Country']=='India'].groupby('Year')['Polio','HepatitisB','Diphtheria'].mean().reset_index().Diphtheria,labels=df[df['Country']=='India'].groupby('Year')['Polio','HepatitisB','Diphtheria'].mean().reset_index().Year,autopct='%1.2f%%')\n",
        "plt.title('Diphtheria immunization in India from 2000-2015')\n",
        "plt.show()"
      ],
      "execution_count": null,
      "outputs": [
        {
          "output_type": "stream",
          "text": [
            "/usr/local/lib/python3.7/dist-packages/ipykernel_launcher.py:2: FutureWarning: Indexing with multiple keys (implicitly converted to a tuple of keys) will be deprecated, use a list instead.\n",
            "  \n"
          ],
          "name": "stderr"
        },
        {
          "output_type": "display_data",
          "data": {
            "image/png": "[encoded data removed]",
            "text/plain": [
              "<Figure size 864x576 with 1 Axes>"
            ]
          },
          "metadata": {
            "tags": []
          }
        }
      ]
    },
    {
      "cell_type": "code",
      "metadata": {
        "colab": {
          "base_uri": "https://localhost:8080/",
          "height": 537
        },
        "id": "0isHiNqTZwdx",
        "outputId": "00a514d1-85bb-4703-f8e8-1408c242b2ba"
      },
      "source": [
        "# Hepatitis B\n",
        "plt.figure(figsize=(12,8))\n",
        "plt.pie(df[df['Country']=='India'].groupby('Year')['Polio','HepatitisB','Diphtheria'].mean().reset_index().HepatitisB,labels=df[df['Country']=='India'].groupby('Year')['Polio','HepatitisB','Diphtheria'].mean().reset_index().Year,autopct='%1.2f%%')\n",
        "plt.title('HepatitisB immunization in India from 2000-2015')\n",
        "plt.show()"
      ],
      "execution_count": null,
      "outputs": [
        {
          "output_type": "stream",
          "text": [
            "/usr/local/lib/python3.7/dist-packages/ipykernel_launcher.py:3: FutureWarning: Indexing with multiple keys (implicitly converted to a tuple of keys) will be deprecated, use a list instead.\n",
            "  This is separate from the ipykernel package so we can avoid doing imports until\n"
          ],
          "name": "stderr"
        },
        {
          "output_type": "display_data",
          "data": {
            "image/png": "[encoded data removed]",
            "text/plain": [
              "<Figure size 864x576 with 1 Axes>"
            ]
          },
          "metadata": {
            "tags": []
          }
        }
      ]
    },
    {
      "cell_type": "markdown",
      "metadata": {
        "id": "IDV4Q69L5uYr"
      },
      "source": [
        "### Insights\n",
        "\n",
        "India has a greater percentage of immunization for Polio and Diphtheria from 2000-2015. But for HepatitisB, the coverage was least during 2000-2007 and then it started increasing."
      ]
    },
    {
      "cell_type": "markdown",
      "metadata": {
        "id": "M-gAguwK_pBj"
      },
      "source": [
        "## **Conclusion**\n",
        "\n",
        "From the analysis, various insights were drawn. There are different factors that influence life expectancy such as BMI and body diseases, thinness_1to19_years and thinness_5to9_years, Schooling and Income composition of resources and adult mortality.\n",
        "\n",
        "So to increase the life expectancy of people, the country should provide more immunization coverage and should also contribute to its total expenditure in health care."
      ]
    },
    {
      "cell_type": "code",
      "metadata": {
        "id": "pLCaCvk9Zwbl"
      },
      "source": [
        ""
      ],
      "execution_count": null,
      "outputs": []
    }
  ]
}